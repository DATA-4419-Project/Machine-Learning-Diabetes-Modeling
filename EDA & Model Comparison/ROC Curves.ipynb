{
 "cells": [
  {
   "cell_type": "code",
   "execution_count": 1,
   "id": "dcde8c53-24e5-4ed0-8fc2-b8707f6ce835",
   "metadata": {},
   "outputs": [],
   "source": [
    "import numpy as np\n",
    "import numpy as np\n",
    "import pandas as pd\n",
    "import xgboost as xgb\n",
    "import sklearn.utils as sklu\n",
    "import matplotlib.pyplot as plt\n",
    "from sklearn.ensemble import RandomForestClassifier\n",
    "from sklearn.svm import SVC\n",
    "import seaborn as sns\n",
    "from sklearn.model_selection import train_test_split, GridSearchCV,StratifiedKFold\n",
    "from sklearn.model_selection import cross_val_score, RepeatedKFold, cross_val_predict\n",
    "import sklearn.model_selection as le_ms\n",
    "from sklearn.preprocessing import StandardScaler\n",
    "import sklearn.preprocessing as skpp\n",
    "from sklearn.decomposition import PCA\n",
    "from sklearn.metrics import classification_report, confusion_matrix, accuracy_score, mean_squared_error\n",
    "from sklearn.metrics import roc_curve, roc_auc_score, auc\n",
    "import sklearn.metrics as sklm\n",
    "import hyperopt\n",
    "from hyperopt import fmin, tpe, hp, STATUS_OK, Trials, space_eval\n",
    "import hyperopt.hp as hpo\n",
    "import warnings\n",
    "warnings.filterwarnings('ignore')\n",
    "\n"
   ]
  },
  {
   "cell_type": "code",
   "execution_count": 2,
   "id": "3841f2f1-1482-472a-9358-1cd6d665ae55",
   "metadata": {},
   "outputs": [],
   "source": [
    "df = pd.read_csv(\"DATASET_clean.csv\")\n",
    "X = df.drop(columns= ['a1c_test']).copy() # make a copy of only the x variables\n",
    "y = df['a1c_test'] # isolate the outcome (y variable)\n",
    "X_train, X_test, y_train, y_test = le_ms.train_test_split(X, y, random_state=12345, train_size=0.8, stratify = y)\n",
    "\n",
    "columns = X_train.columns"
   ]
  },
  {
   "cell_type": "code",
   "execution_count": 3,
   "id": "53c4cf30-051d-4c6e-9a1b-f31be85e9815",
   "metadata": {},
   "outputs": [],
   "source": [
    "N_SPLITS = 10\n",
    "kfold = le_ms.StratifiedKFold(n_splits = N_SPLITS)\n"
   ]
  },
  {
   "cell_type": "code",
   "execution_count": 4,
   "id": "37cac61e-e3de-49b2-9843-555dc2aede3d",
   "metadata": {},
   "outputs": [],
   "source": [
    "# set the parameter space and values for the algorithm to search through\n",
    "space = {'max_depth': hp.quniform(\"max_depth\", 1, 20, 1),\n",
    "            'gamma': hp.uniform('gamma', 0,25),\n",
    "            'reg_alpha': hp.quniform('reg_alpha', 0, 100, 1),\n",
    "            'reg_lambda': hp.uniform('reg_lambda', 0,250),\n",
    "            'colsample_bytree': hp.uniform('colsample_bytree', 0,1),\n",
    "            'min_child_weight': hp.quniform('min_child_weight', 0, 200, 1),\n",
    "            'n_estimators': 180,\n",
    "            'eval_metric': 'auc',\n",
    "            'random_state': [1234],\n",
    "            'early_stopping': 50,\n",
    "         'scale_pos_weight': hp.quniform('scale_pos_weight', 0, 200, 1)\n",
    "}"
   ]
  },
  {
   "cell_type": "code",
   "execution_count": 5,
   "id": "85d92d27-836b-4b57-8d9d-6a5e0e789af5",
   "metadata": {},
   "outputs": [],
   "source": [
    "def hyperparameter_tuning(space):\n",
    "    #classes_weights = sklu.class_weight.compute_sample_weight(\n",
    "    #class_weight='balanced',\n",
    "    #y=trainY)\n",
    "    model = xgb.XGBClassifier(#n_estimators =space['n_estimators'],\n",
    "                                max_depth = int(space['max_depth']), gamma = space['gamma'],\n",
    "                                reg_alpha = int(space['reg_alpha']), min_child_weight=space['min_child_weight'],\n",
    "                                colsample_bytree = space['colsample_bytree'], eval_metric = 'auc',scale_pos_weight=int(space['scale_pos_weight']),\n",
    "        \n",
    "        \n",
    "        n_jobs=-1)\n",
    "   \n",
    "\n",
    "\n",
    "    model.fit(trainX, trainY, verbose=False)\n",
    "\n",
    "    #pred = model.predict(testX)\n",
    "    y_pred = model.predict_proba(testX)\n",
    "    y_true = np.array(testY)\n",
    "    y_scores = y_pred[:, 1]\n",
    "\n",
    "    fpr, tpr, _ = sklm.roc_curve(testY, y_scores)\n",
    "    #AUC = sklm.roc_auc_score(testY, pred)\n",
    "    roc_auc = sklm.auc(fpr, tpr)\n",
    "    #print(roc_auc)\n",
    "    \n",
    "    return {'loss':-roc_auc, 'status': STATUS_OK, 'model': model}"
   ]
  },
  {
   "cell_type": "code",
   "execution_count": 6,
   "id": "84c867fd-8b34-4df5-9dd0-4b281df96f16",
   "metadata": {},
   "outputs": [],
   "source": [
    "X_train = X_train.to_numpy()\n",
    "y_train = y_train.to_numpy()"
   ]
  },
  {
   "cell_type": "code",
   "execution_count": 7,
   "id": "9a1033b5-b4b4-4df0-92ec-f947cf8125ac",
   "metadata": {},
   "outputs": [
    {
     "name": "stdout",
     "output_type": "stream",
     "text": [
      "100%|█████████████████████████████████████████████| 200/200 [00:10<00:00, 19.71trial/s, best loss: -0.7969999999999999]\n",
      "{'colsample_bytree': 0.8075507353281677, 'gamma': 3.061513672845491, 'max_depth': 14.0, 'min_child_weight': 151.0, 'reg_alpha': 25.0, 'reg_lambda': 39.39261964150139, 'scale_pos_weight': 72.0}\n",
      "-0.7969999999999999\n",
      "100%|███████████████████████████████████████████████████████| 200/200 [00:08<00:00, 23.25trial/s, best loss: -0.781875]\n",
      "{'colsample_bytree': 0.9553992977880051, 'gamma': 22.43008944639638, 'max_depth': 8.0, 'min_child_weight': 196.0, 'reg_alpha': 24.0, 'reg_lambda': 180.97618774533515, 'scale_pos_weight': 64.0}\n",
      "-0.781875\n",
      "100%|███████████████████████████████████████████████████████| 200/200 [00:08<00:00, 22.83trial/s, best loss: -0.802125]\n",
      "{'colsample_bytree': 0.008109877557940529, 'gamma': 1.814991417604436, 'max_depth': 7.0, 'min_child_weight': 50.0, 'reg_alpha': 43.0, 'reg_lambda': 63.40050630343604, 'scale_pos_weight': 16.0}\n",
      "-0.802125\n",
      "100%|█████████████████████████████████████████████| 200/200 [00:08<00:00, 23.10trial/s, best loss: -0.8432499999999999]\n",
      "{'colsample_bytree': 0.3910187127297161, 'gamma': 10.388523560124316, 'max_depth': 4.0, 'min_child_weight': 147.0, 'reg_alpha': 32.0, 'reg_lambda': 49.11174319512605, 'scale_pos_weight': 19.0}\n",
      "-0.8432499999999999\n",
      "100%|██████████████████████████████████████████████████████████| 200/200 [00:09<00:00, 21.17trial/s, best loss: -0.745]\n",
      "{'colsample_bytree': 0.4982281396080561, 'gamma': 14.251305546012507, 'max_depth': 6.0, 'min_child_weight': 200.0, 'reg_alpha': 32.0, 'reg_lambda': 88.57986924266372, 'scale_pos_weight': 82.0}\n",
      "-0.745\n",
      "100%|███████████████████████████████████████████████████████| 200/200 [00:09<00:00, 21.34trial/s, best loss: -0.807625]\n",
      "{'colsample_bytree': 0.6396031072865203, 'gamma': 2.9732389163596995, 'max_depth': 15.0, 'min_child_weight': 25.0, 'reg_alpha': 74.0, 'reg_lambda': 218.72284531970453, 'scale_pos_weight': 150.0}\n",
      "-0.807625\n",
      "100%|█████████████████████████████████████████████| 200/200 [00:09<00:00, 22.20trial/s, best loss: -0.8310322580645161]\n",
      "{'colsample_bytree': 0.5438570304166807, 'gamma': 15.31231721736231, 'max_depth': 19.0, 'min_child_weight': 2.0, 'reg_alpha': 17.0, 'reg_lambda': 52.033618428098244, 'scale_pos_weight': 105.0}\n",
      "-0.8310322580645161\n",
      "100%|█████████████████████████████████████████████| 200/200 [00:08<00:00, 22.62trial/s, best loss: -0.8334193548387097]\n",
      "{'colsample_bytree': 0.3944532665112282, 'gamma': 14.479586868315712, 'max_depth': 20.0, 'min_child_weight': 152.0, 'reg_alpha': 15.0, 'reg_lambda': 113.30042594433979, 'scale_pos_weight': 130.0}\n",
      "-0.8334193548387097\n",
      "100%|█████████████████████████████████████████████| 200/200 [00:08<00:00, 23.07trial/s, best loss: -0.8235441767068272]\n",
      "{'colsample_bytree': 0.5187366722216723, 'gamma': 1.637991984799017, 'max_depth': 7.0, 'min_child_weight': 1.0, 'reg_alpha': 72.0, 'reg_lambda': 163.07261853061806, 'scale_pos_weight': 35.0}\n",
      "-0.8235441767068272\n",
      "100%|█████████████████████████████████████████████| 200/200 [00:08<00:00, 23.46trial/s, best loss: -0.8253012048192772]\n",
      "{'colsample_bytree': 0.5247011215843613, 'gamma': 11.063550388384048, 'max_depth': 5.0, 'min_child_weight': 192.0, 'reg_alpha': 69.0, 'reg_lambda': 23.5701812192996, 'scale_pos_weight': 91.0}\n",
      "-0.8253012048192772\n"
     ]
    }
   ],
   "source": [
    "max_depth_list = []\n",
    "auc_list = []\n",
    "gamma_list = []\n",
    "reg_alpha_list = []\n",
    "reg_lambda_list = []\n",
    "col_sample_by_tree_list = []\n",
    "min_child_weight_list = []\n",
    "scale_pos_weight_list = []\n",
    "np.random.seed(1234567)\n",
    "for train_index, test_index in kfold.split(range(len(y_train)), y = y_train):\n",
    "    \n",
    "    # split labels and feature matrix\n",
    "    trainX = X_train[train_index]\n",
    "    trainY = y_train[train_index]\n",
    "    testX = X_train[test_index]\n",
    "    testY = y_train[test_index]\n",
    "    rstate = np.random.default_rng(1234) # note that you must set this so that the fmin is reproducible\n",
    "    # run the algorithm\n",
    "    #scaler = skpp.MinMaxScaler()\n",
    "    #scaler.fit(trainX)\n",
    "    #trainX = scaler.transform(trainX)\n",
    "    #testX = scaler.transform(testX)\n",
    "    trials = Trials()\n",
    "    best = fmin(fn=hyperparameter_tuning,\n",
    "            space=space,\n",
    "            algo=tpe.suggest,\n",
    "            max_evals=200,\n",
    "            trials=trials,\n",
    "            rstate=rstate)\n",
    "\n",
    "    print(best) # print the best parameter values\n",
    "    # extract the best model\n",
    "    best_loss = trials.best_trial['result']['loss'] \n",
    "    print(best_loss)\n",
    "\n",
    "    auc_list.append(best_loss)\n",
    "    max_depth_list.append(best['max_depth'])\n",
    "    gamma_list.append(best['gamma'])\n",
    "    reg_alpha_list.append(best['reg_alpha'])\n",
    "    reg_lambda_list.append(best['reg_lambda'])\n",
    "    col_sample_by_tree_list.append(best['colsample_bytree'])\n",
    "    min_child_weight_list.append(best['min_child_weight'])\n",
    "    scale_pos_weight_list.append(best['scale_pos_weight'])"
   ]
  },
  {
   "cell_type": "code",
   "execution_count": 8,
   "id": "8711c30a-5d61-4d08-af74-1acc1c34bec3",
   "metadata": {},
   "outputs": [
    {
     "name": "stdout",
     "output_type": "stream",
     "text": [
      "0\n",
      "0.7662059294871795\n",
      "Maximum AUC position:  0\n",
      "1\n",
      "0.7745492788461539\n",
      "Maximum AUC position:  1\n",
      "2\n",
      "0.7651442307692309\n",
      "Maximum AUC position:  1\n",
      "3\n",
      "0.7816506410256411\n",
      "Maximum AUC position:  3\n",
      "4\n",
      "0.7857371794871795\n",
      "Maximum AUC position:  4\n",
      "5\n",
      "0.7769030448717948\n",
      "Maximum AUC position:  4\n",
      "6\n",
      "0.7522435897435896\n",
      "Maximum AUC position:  4\n",
      "7\n",
      "0.7762219551282051\n",
      "Maximum AUC position:  4\n",
      "8\n",
      "0.7747395833333334\n",
      "Maximum AUC position:  4\n",
      "9\n",
      "0.7822415865384617\n",
      "Maximum AUC position:  4\n"
     ]
    }
   ],
   "source": [
    "test_set_auc = []\n",
    "np.random.seed(123456)\n",
    "for i in range(0, 10, 1):\n",
    "    print(i)\n",
    "    model = xgb.XGBClassifier(\n",
    "                                max_depth = int(max_depth_list[i]), gamma = gamma_list[i],\n",
    "                                reg_alpha = int(reg_alpha_list[i]), min_child_weight=min_child_weight_list[i], reg_lambda = reg_lambda_list[i],\n",
    "                                colsample_bytree = col_sample_by_tree_list[i], eval_metric = 'auc',scale_pos_weight = int(scale_pos_weight_list[i]), n_jobs=-1)\n",
    "\n",
    "\n",
    "    model.fit(X_train, y_train, verbose=False)\n",
    "\n",
    "    y_pred = model.predict_proba(X_test)\n",
    "    y_true = np.array(y_test)\n",
    "    y_scores = y_pred[:, 1]\n",
    "\n",
    "    fpr, tpr, _ = sklm.roc_curve(y_test, y_scores)\n",
    "    #AUC = sklm.roc_auc_score(testY, pred)\n",
    "    roc_auc = sklm.auc(fpr, tpr)\n",
    "    print(roc_auc)\n",
    "    test_set_auc.append(roc_auc)\n",
    "    print(\"Maximum AUC position: \",test_set_auc.index(max(test_set_auc)) )\n",
    "    i = test_set_auc.index(max(test_set_auc))#best i"
   ]
  },
  {
   "cell_type": "code",
   "execution_count": 9,
   "id": "4e35aab7-4b7c-4eb9-9180-69d9c9cf7e8f",
   "metadata": {},
   "outputs": [
    {
     "name": "stdout",
     "output_type": "stream",
     "text": [
      "0.7857371794871795\n"
     ]
    }
   ],
   "source": [
    "np.random.seed(1234567)\n",
    "model = xgb.XGBClassifier(\n",
    "                                max_depth = int(max_depth_list[i]), gamma = gamma_list[i],\n",
    "                                reg_alpha = int(reg_alpha_list[i]), min_child_weight=min_child_weight_list[i], reg_lambda = reg_lambda_list[i],\n",
    "                                colsample_bytree = col_sample_by_tree_list[i], eval_metric = 'auc',scale_pos_weight = int(scale_pos_weight_list[i]), n_jobs=-1)\n",
    "\n",
    "\n",
    "model.fit(X_train, y_train, verbose=False)\n",
    "\n",
    "y_pred = model.predict_proba(X_test)\n",
    "y_true = np.array(y_test)\n",
    "y_scores = y_pred[:, 1]\n",
    "\n",
    "fpr, tpr, _ = sklm.roc_curve(y_test, y_scores)\n",
    "#AUC = sklm.roc_auc_score(testY, pred)\n",
    "roc_auc = sklm.auc(fpr, tpr)\n",
    "print(roc_auc)"
   ]
  },
  {
   "cell_type": "code",
   "execution_count": 10,
   "id": "015037d7-1857-4f37-84c3-34d0b1fa4657",
   "metadata": {},
   "outputs": [],
   "source": [
    "y_pred_proba = model.predict_proba(X_test)[:, 1]"
   ]
  },
  {
   "cell_type": "code",
   "execution_count": 11,
   "id": "70d7143e-1d03-43dc-992c-caabfb1a71aa",
   "metadata": {},
   "outputs": [],
   "source": [
    "fpr, tpr, thresholds = roc_curve(y_test, y_pred_proba) \n",
    "roc_auc_XGB = auc(fpr, tpr)"
   ]
  },
  {
   "cell_type": "code",
   "execution_count": null,
   "id": "7e0ae480-7ddb-4b20-80b8-9ca0ac6423ec",
   "metadata": {},
   "outputs": [],
   "source": []
  },
  {
   "cell_type": "code",
   "execution_count": null,
   "id": "7096b172-d05c-4d44-a390-e31d5006a831",
   "metadata": {},
   "outputs": [],
   "source": []
  },
  {
   "cell_type": "code",
   "execution_count": null,
   "id": "1f165031-7ec8-4943-bbf4-ea7f3b079d0c",
   "metadata": {},
   "outputs": [],
   "source": []
  },
  {
   "cell_type": "code",
   "execution_count": 12,
   "id": "395c582e-6646-4f4c-b76a-083d93549338",
   "metadata": {},
   "outputs": [],
   "source": [
    "# Load and preprocess\n",
    "df = pd.read_csv(\"DATASET_clean.csv\")\n",
    "X = df.drop(columns=[\"SEQN\", \"a1c_test\"])\n",
    "y = df[\"a1c_test\"]\n",
    "cat_cols = ['ALQ111', 'SMQ020', 'DPQ010', 'DPQ040', 'DPQ050', 'DPQ060', 'DMDBORN', 'DMDEDUC', 'DMDMARTX']\n",
    "X[cat_cols] = X[cat_cols].astype(\"category\")"
   ]
  },
  {
   "cell_type": "code",
   "execution_count": 13,
   "id": "1cd0afa6-7fbd-434a-b15f-ac4f488dcab8",
   "metadata": {},
   "outputs": [
    {
     "data": {
      "text/plain": [
       "a1c_test\n",
       "0    3122\n",
       "1     398\n",
       "Name: count, dtype: int64"
      ]
     },
     "execution_count": 13,
     "metadata": {},
     "output_type": "execute_result"
    }
   ],
   "source": [
    "from imblearn.over_sampling import SMOTENC\n",
    "\n",
    "X = df.drop(columns=[\"SEQN\", \"a1c_test\"])\n",
    "y = df[\"a1c_test\"]\n",
    "\n",
    "y = y.astype('category')\n",
    "y.value_counts()\n"
   ]
  },
  {
   "cell_type": "code",
   "execution_count": 14,
   "id": "5b45aee6-8696-45b3-9fed-efd807fc56b1",
   "metadata": {},
   "outputs": [
    {
     "data": {
      "text/plain": [
       "a1c_test\n",
       "0    3122\n",
       "1    3122\n",
       "Name: count, dtype: int64"
      ]
     },
     "execution_count": 14,
     "metadata": {},
     "output_type": "execute_result"
    }
   ],
   "source": [
    "\n",
    "X_factors = ['ALQ111', 'SMQ020', 'DPQ010', 'DPQ040', 'DPQ050', 'DPQ060', 'DMDBORN', 'DMDEDUC', 'DMDMARTX']\n",
    "X[X_factors] = X[X_factors].astype('category')\n",
    "\n",
    "### SMOTE NC function\n",
    "sm = SMOTENC(random_state=42, categorical_features= ['ALQ111', 'SMQ020', 'DPQ010', 'DPQ040', 'DPQ050', 'DPQ060', 'DMDBORN', 'DMDEDUC', 'DMDMARTX'])\n",
    "X_res, y_res = sm.fit_resample(X, y)\n",
    "\n",
    "\n",
    "### CONFIRM NEW COUNT\n",
    "y_res.value_counts()"
   ]
  },
  {
   "cell_type": "code",
   "execution_count": 15,
   "id": "824ef1b6-9bf1-41f9-b75b-d24f8e96dab5",
   "metadata": {},
   "outputs": [],
   "source": [
    "from sklearn.preprocessing import StandardScaler\n",
    "sc = StandardScaler()\n",
    "sc.fit(X_res)\n",
    "X_res_scaled = sc.transform(X_res)\n",
    "\n",
    "\n",
    "### balanced data is named X_res_scaled, and y_res\n",
    "### split data into train and test\n",
    "from sklearn.model_selection import train_test_split\n",
    "X_train_scaled, X_test_scaled, y_train, y_test = train_test_split(X_res_scaled, y_res, test_size=0.2, random_state=50)"
   ]
  },
  {
   "cell_type": "code",
   "execution_count": null,
   "id": "ac2f051b-561a-48a5-963d-76ca404cd795",
   "metadata": {},
   "outputs": [],
   "source": []
  },
  {
   "cell_type": "code",
   "execution_count": 16,
   "id": "c0661b58-f6c7-4e8d-961e-fcf0c3bef97c",
   "metadata": {},
   "outputs": [
    {
     "name": "stdout",
     "output_type": "stream",
     "text": [
      "\n",
      "🔹 GridSearch SMOTE Linear SVM\n",
      "Best Params: {'C': 2}\n",
      "Accuracy: 0.789431545236189\n",
      "RMSE: 0.4588773853262013\n",
      "Confusion Matrix:\n",
      " [[470 173]\n",
      " [ 90 516]]\n",
      "Classification Report:\n",
      "               precision    recall  f1-score   support\n",
      "\n",
      "           0       0.84      0.73      0.78       643\n",
      "           1       0.75      0.85      0.80       606\n",
      "\n",
      "    accuracy                           0.79      1249\n",
      "   macro avg       0.79      0.79      0.79      1249\n",
      "weighted avg       0.80      0.79      0.79      1249\n",
      "\n"
     ]
    }
   ],
   "source": [
    "param_grid = {'C': [0.1,1, 2,3,4, 5]}\n",
    "cv = StratifiedKFold(n_splits=5, shuffle=True, random_state=42)\n",
    "\n",
    "grid = GridSearchCV(\n",
    "    SVC(kernel='linear', probability=True),\n",
    "    param_grid,\n",
    "    cv=cv,\n",
    "    scoring='f1_macro',\n",
    "    n_jobs=-1\n",
    ")\n",
    "grid.fit(X_train_scaled, y_train)\n",
    "\n",
    "# Evaluation\n",
    "model_best = grid.best_estimator_\n",
    "y_pred = model_best.predict(X_test_scaled)\n",
    "print(\"\\n🔹 GridSearch SMOTE Linear SVM\")\n",
    "print(\"Best Params:\", grid.best_params_)\n",
    "print(\"Accuracy:\", accuracy_score(y_test, y_pred))\n",
    "print(\"RMSE:\", mean_squared_error(y_test, y_pred, squared=False))\n",
    "print(\"Confusion Matrix:\\n\", confusion_matrix(y_test, y_pred))\n",
    "print(\"Classification Report:\\n\", classification_report(y_test, y_pred))\n",
    "\n",
    "\n",
    "y_proba = model_best.predict_proba(X_test_scaled)[:, 1]\n",
    "fpr_smote, tpr_smote, thresholds = roc_curve(y_test, y_proba)\n",
    "roc_auc_svm = auc(fpr_smote, tpr_smote)"
   ]
  },
  {
   "cell_type": "code",
   "execution_count": 56,
   "id": "5fc29bb1-2261-416a-a0b3-306d68fdf453",
   "metadata": {},
   "outputs": [
    {
     "name": "stdout",
     "output_type": "stream",
     "text": [
      "Train Accuracy: 1.0\n",
      "Test Accuracy: 0.8857954545454547\n"
     ]
    }
   ],
   "source": [
    "from sklearn.metrics import roc_curve, roc_auc_score\n",
    "from sklearn.ensemble import RandomForestClassifier\n",
    "from sklearn.linear_model import LogisticRegression\n",
    "\n",
    "\n",
    "log_reg = LogisticRegression(penalty='l1', C=10, random_state=10, solver='saga', max_iter = 10000)\n",
    "log_reg.fit(X_train_scaled, y_train.values.ravel())\n",
    "y_proba_log_reg = log_reg.predict_proba(X_test_scaled)[:, 1]\n",
    "\n",
    "#random forest\n",
    "rf = RandomForestClassifier()\n",
    "rf.fit(X_train_scaled, y_train.values.ravel())\n",
    "y_proba_ran_for = rf.predict_proba(X_test_scaled)[:,1]\n",
    "\n",
    "fpr_log_reg_balanced, tpr_log_reg_balanced, _ = roc_curve(y_test.values.ravel(), y_proba_log_reg )\n",
    "auc_log_reg_balanced = roc_auc_score(y_test.values.ravel(), y_proba_log_reg)\n",
    "\n",
    "fpr_ran_for_balanced, tpr_ran_for_balanced, _ = roc_curve(y_test.values.ravel(), y_proba_ran_for )\n",
    "auc_ran_for_balanced = roc_auc_score(y_test.values.ravel(), y_proba_ran_for)\n",
    "from sklearn.model_selection import cross_validate\n",
    "scores = cross_validate(rf, X, y, cv=5, return_train_score=True)\n",
    "\n",
    "print(\"Train Accuracy:\", scores['train_score'].mean())\n",
    "print(\"Test Accuracy:\", scores['test_score'].mean())\n",
    "\n",
    "\n"
   ]
  },
  {
   "cell_type": "code",
   "execution_count": 50,
   "id": "cca9ae38-34be-4b9f-87f9-c3c0d16f08e2",
   "metadata": {},
   "outputs": [
    {
     "name": "stdout",
     "output_type": "stream",
     "text": [
      "0.9786132967884658\n",
      "0.862759137500064\n",
      "0.7857371794871795\n",
      "0.8633416996443034\n"
     ]
    }
   ],
   "source": [
    "print(auc_ran_for_balanced)\n",
    "print(auc_log_reg_balanced)\n",
    "print(roc_auc_XGB)\n",
    "print(roc_auc_svm)\n"
   ]
  },
  {
   "cell_type": "code",
   "execution_count": null,
   "id": "187dca6e-f25f-48cf-83a8-2c589043ecff",
   "metadata": {},
   "outputs": [],
   "source": []
  },
  {
   "cell_type": "code",
   "execution_count": 48,
   "id": "9a2d5831-6cff-450c-a514-8ac71028080b",
   "metadata": {},
   "outputs": [
    {
     "data": {
      "image/png": "[encoded data removed]",
      "text/plain": [
       "<Figure size 800x600 with 1 Axes>"
      ]
     },
     "metadata": {},
     "output_type": "display_data"
    }
   ],
   "source": [
    "plt.figure(figsize=(8, 6))\n",
    "plt.plot(fpr_log_reg_balanced, tpr_log_reg_balanced, label=f'Logistic Regression (AUC = {auc_log_reg_balanced:.3f})')\n",
    "plt.plot(fpr_ran_for_balanced, tpr_ran_for_balanced, label=f'Random Forest (AUC = {auc_ran_for_balanced:.3f})')\n",
    "plt.plot(fpr, tpr, label=f'XGBoost (AUC = {roc_auc_XGB:.3f})')\n",
    "plt.plot(fpr_smote, tpr_smote, label=f'SVM (AUC = {roc_auc_svm:.3f})')\n",
    "plt.plot([0, 1], [0, 1], 'k--')\n",
    "plt.xlabel(\"False Positive Rate\")\n",
    "plt.ylabel(\"True Positive Rate\")\n",
    "plt.title(\"Model Comparison - ROC Curve\")\n",
    "plt.legend(loc=\"lower right\")\n",
    "plt.grid(True)\n",
    "plt.show()"
   ]
  },
  {
   "cell_type": "code",
   "execution_count": null,
   "id": "2077bb41-bda1-48c4-ae28-fabd0d5e0bad",
   "metadata": {},
   "outputs": [],
   "source": []
  },
  {
   "cell_type": "code",
   "execution_count": null,
   "id": "23593bdb-de9a-4997-8540-2f44524331b9",
   "metadata": {},
   "outputs": [],
   "source": []
  },
  {
   "cell_type": "code",
   "execution_count": null,
   "id": "c0044d9a-8f98-4ed0-95fe-84b3011e99b0",
   "metadata": {},
   "outputs": [],
   "source": []
  },
  {
   "cell_type": "code",
   "execution_count": null,
   "id": "f22741b0-f30e-4808-9b7c-a2cd7ad3cd15",
   "metadata": {},
   "outputs": [],
   "source": []
  },
  {
   "cell_type": "code",
   "execution_count": null,
   "id": "b12eee04-00c5-482c-a11f-e1477599b161",
   "metadata": {},
   "outputs": [],
   "source": []
  }
 ],
 "metadata": {
  "kernelspec": {
   "display_name": "Python [conda env:base] *",
   "language": "python",
   "name": "conda-base-py"
  },
  "language_info": {
   "codemirror_mode": {
    "name": "ipython",
    "version": 3
   },
   "file_extension": ".py",
   "mimetype": "text/x-python",
   "name": "python",
   "nbconvert_exporter": "python",
   "pygments_lexer": "ipython3",
   "version": "3.12.7"
  }
 },
 "nbformat": 4,
 "nbformat_minor": 5
}
