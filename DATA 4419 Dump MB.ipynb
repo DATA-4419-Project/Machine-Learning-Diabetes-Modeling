{
 "cells": [
  {
   "cell_type": "code",
   "execution_count": 6,
   "id": "0b6c2f05-4130-4496-8f12-09ffad421abd",
   "metadata": {},
   "outputs": [],
   "source": [
    "import pandas as pd\n",
    "import numpy as np\n",
    "import matplotlib.pyplot as plt"
   ]
  },
  {
   "cell_type": "code",
   "execution_count": 8,
   "id": "17e116ce-4db4-402a-a2ad-8db729ed15d9",
   "metadata": {},
   "outputs": [],
   "source": [
    "def convert_xpt_to_csv(xpt_file: str, csv_file: str):\n",
    "    \"\"\"\n",
    "    Converts an XPT (SAS transport file) to a CSV file.\n",
    "\n",
    "    Parameters:\n",
    "    xpt_file (str): Path to the input XPT file.\n",
    "    csv_file (str): Path to save the output CSV file.\n",
    "    \"\"\"\n",
    "    try:\n",
    "        # Read the XPT file\n",
    "        df = pd.read_sas(xpt_file, format=\"xport\")\n",
    "        \n",
    "        # Save to CSV\n",
    "        df.to_csv(csv_file, index=False)\n",
    "        \n",
    "        print(f\"Conversion complete! CSV file saved at: {csv_file}\")\n",
    "    except Exception as e:\n",
    "        print(f\"Error: {e}\")\n",
    "\n",
    "### from chatGPT"
   ]
  },
  {
   "cell_type": "markdown",
   "id": "eb1da8a2-14f9-48db-b126-b6887976e8cb",
   "metadata": {},
   "source": [
    "August 2021-August 2023 Dietary Data - Continuous NHANES\n",
    "Dietary Interview - Total Nutrient Intakes, First Day\n",
    "*https://wwwn.cdc.gov/Nchs/Data/Nhanes/Public/2021/DataFiles/DR1TOT_L.htm"
   ]
  },
  {
   "cell_type": "code",
   "execution_count": 11,
   "id": "23dca45d-5471-40f1-b4d4-cd8771f2fddb",
   "metadata": {},
   "outputs": [
    {
     "name": "stdout",
     "output_type": "stream",
     "text": [
      "Conversion complete! CSV file saved at: DR1TOT_L.csv\n"
     ]
    }
   ],
   "source": [
    "### Dietary DATA\n",
    "convert_xpt_to_csv(\"DR1TOT_L.xpt\", \"DR1TOT_L.csv\")"
   ]
  },
  {
   "cell_type": "markdown",
   "id": "87cc93d9-d1c3-4e27-a646-f1d337cb08af",
   "metadata": {},
   "source": [
    "August 2021-August 2023 Laboratory Data - Continuous NHANES\n",
    "\n",
    "**Glycohemoglobin** A1C Test\n",
    "\n",
    "*https://wwwn.cdc.gov/nchs/nhanes/search/datapage.aspx?Component=Laboratory&Cycle=2021-2023"
   ]
  },
  {
   "cell_type": "code",
   "execution_count": 22,
   "id": "81146802-9cb2-49f0-9319-7f21c091598d",
   "metadata": {},
   "outputs": [
    {
     "data": {
      "text/plain": [
       "0"
      ]
     },
     "execution_count": 22,
     "metadata": {},
     "output_type": "execute_result"
    }
   ],
   "source": [
    "#convert_xpt_to_csv(\"GHB_L.xpt\", \"GHB_L.csv\")\n",
    "\n",
    "##cleaning GHB_L A1C test results\n",
    "GHB_L = pd.read_csv('GHB_L.csv')\n",
    "#GHB_L\n",
    "\n",
    "## dropping WTPH2YR \n",
    "GHB_L = GHB_L.drop('WTPH2YR', axis=1)\n",
    "GHB_L\n",
    "## count null\n",
    "\n",
    "#GHB_L['LBXGH'].isnull().sum(axis = 0)\n",
    "## 484 similar to documentation\n",
    "\n",
    "GHB_L = GHB_L.dropna()\n",
    "GHB_L['LBXGH'].isnull().sum(axis = 0)\n",
    "# null count = 0"
   ]
  },
  {
   "cell_type": "code",
   "execution_count": 94,
   "id": "6a3a30d5-142b-40ed-9d4d-ab74f8b62f1f",
   "metadata": {},
   "outputs": [
    {
     "data": {
      "text/plain": [
       "DIAB_POS\n",
       "0    5994\n",
       "1     721\n",
       "Name: count, dtype: int64"
      ]
     },
     "execution_count": 94,
     "metadata": {},
     "output_type": "execute_result"
    }
   ],
   "source": [
    "##creating column where A1C > 6.4 (6.5 gets you diagnosed with diabetes)\n",
    "GHB_L['DIAB_POS'] = np.where(GHB_L['LBXGH'] > 6.4, '1', '0')\n",
    "count_positive = GHB_L['DIAB_POS'].value_counts()\n",
    "count_positive\n",
    "## 721 respondents are positive with diabetes"
   ]
  },
  {
   "cell_type": "markdown",
   "id": "1b96f259-8c43-46fd-8382-7b9a87782dab",
   "metadata": {},
   "source": [
    "**Plasma Fasting Glucose**\n",
    "\n",
    "PFG test\n",
    "\n",
    "PFG >= 126 m/dL -> Diabetes Diagnosis\n",
    "\n",
    "*https://wwwn.cdc.gov/nchs/nhanes/search/datapage.aspx?Component=Laboratory&Cycle=2021-2023"
   ]
  },
  {
   "cell_type": "code",
   "execution_count": 56,
   "id": "f04b1e4b-a52a-46d1-85bc-5d69d8467aea",
   "metadata": {},
   "outputs": [],
   "source": [
    "#convert_xpt_to_csv(\"GLU_L.xpt\", \"GLU_L.csv\")\n",
    "#CLEANING GLU_L.CSV\n",
    "GLU_L = pd.read_csv('GLU_L.csv')\n",
    "\n",
    "##3 dropping WTSAF2YR, LBDGLUSI (PFG in SI units)\n",
    "GLU_L = GLU_L.drop(['WTSAF2YR', 'LBDGLUSI'], axis=1)\n",
    "\n",
    "## count null\n",
    "GLU_L['LBXGLU'].isnull().sum(axis = 0)\n",
    "## 324 similar to documentation\n",
    "\n",
    "GLU_L = GLU_L.dropna()\n",
    "# GLU_L['LBXGLU'].isnull().sum(axis = 0)\n",
    "# null count = 0"
   ]
  },
  {
   "cell_type": "code",
   "execution_count": 92,
   "id": "07dee2d3-eabc-4219-873b-e8b46912d259",
   "metadata": {},
   "outputs": [
    {
     "data": {
      "text/plain": [
       "DIAB_POS\n",
       "0    3242\n",
       "1     430\n",
       "Name: count, dtype: int64"
      ]
     },
     "execution_count": 92,
     "metadata": {},
     "output_type": "execute_result"
    }
   ],
   "source": [
    "##creating column where PFG > 126\n",
    "GLU_L['DIAB_POS'] = np.where(GLU_L['LBXGLU'] > 125, '1', '0')\n",
    "count_positive = GLU_L['DIAB_POS'].value_counts()\n",
    "count_positive\n",
    "## 430"
   ]
  },
  {
   "cell_type": "code",
   "execution_count": 60,
   "id": "4358e836-56f4-419c-9d03-75021da820d8",
   "metadata": {},
   "outputs": [
    {
     "data": {
      "text/html": [
       "<div>\n",
       "<style scoped>\n",
       "    .dataframe tbody tr th:only-of-type {\n",
       "        vertical-align: middle;\n",
       "    }\n",
       "\n",
       "    .dataframe tbody tr th {\n",
       "        vertical-align: top;\n",
       "    }\n",
       "\n",
       "    .dataframe thead th {\n",
       "        text-align: right;\n",
       "    }\n",
       "</style>\n",
       "<table border=\"1\" class=\"dataframe\">\n",
       "  <thead>\n",
       "    <tr style=\"text-align: right;\">\n",
       "      <th></th>\n",
       "      <th>SEQN</th>\n",
       "      <th>LBXGLU</th>\n",
       "      <th>DIAB_POS</th>\n",
       "    </tr>\n",
       "  </thead>\n",
       "  <tbody>\n",
       "    <tr>\n",
       "      <th>0</th>\n",
       "      <td>130378.0</td>\n",
       "      <td>113.0</td>\n",
       "      <td>0</td>\n",
       "    </tr>\n",
       "    <tr>\n",
       "      <th>1</th>\n",
       "      <td>130379.0</td>\n",
       "      <td>99.0</td>\n",
       "      <td>0</td>\n",
       "    </tr>\n",
       "    <tr>\n",
       "      <th>2</th>\n",
       "      <td>130380.0</td>\n",
       "      <td>156.0</td>\n",
       "      <td>1</td>\n",
       "    </tr>\n",
       "    <tr>\n",
       "      <th>3</th>\n",
       "      <td>130386.0</td>\n",
       "      <td>100.0</td>\n",
       "      <td>0</td>\n",
       "    </tr>\n",
       "    <tr>\n",
       "      <th>4</th>\n",
       "      <td>130394.0</td>\n",
       "      <td>88.0</td>\n",
       "      <td>0</td>\n",
       "    </tr>\n",
       "    <tr>\n",
       "      <th>...</th>\n",
       "      <td>...</td>\n",
       "      <td>...</td>\n",
       "      <td>...</td>\n",
       "    </tr>\n",
       "    <tr>\n",
       "      <th>3990</th>\n",
       "      <td>142300.0</td>\n",
       "      <td>95.0</td>\n",
       "      <td>0</td>\n",
       "    </tr>\n",
       "    <tr>\n",
       "      <th>3991</th>\n",
       "      <td>142301.0</td>\n",
       "      <td>110.0</td>\n",
       "      <td>0</td>\n",
       "    </tr>\n",
       "    <tr>\n",
       "      <th>3992</th>\n",
       "      <td>142303.0</td>\n",
       "      <td>160.0</td>\n",
       "      <td>1</td>\n",
       "    </tr>\n",
       "    <tr>\n",
       "      <th>3993</th>\n",
       "      <td>142305.0</td>\n",
       "      <td>132.0</td>\n",
       "      <td>1</td>\n",
       "    </tr>\n",
       "    <tr>\n",
       "      <th>3995</th>\n",
       "      <td>142309.0</td>\n",
       "      <td>96.0</td>\n",
       "      <td>0</td>\n",
       "    </tr>\n",
       "  </tbody>\n",
       "</table>\n",
       "<p>3672 rows × 3 columns</p>\n",
       "</div>"
      ],
      "text/plain": [
       "          SEQN  LBXGLU DIAB_POS\n",
       "0     130378.0   113.0        0\n",
       "1     130379.0    99.0        0\n",
       "2     130380.0   156.0        1\n",
       "3     130386.0   100.0        0\n",
       "4     130394.0    88.0        0\n",
       "...        ...     ...      ...\n",
       "3990  142300.0    95.0        0\n",
       "3991  142301.0   110.0        0\n",
       "3992  142303.0   160.0        1\n",
       "3993  142305.0   132.0        1\n",
       "3995  142309.0    96.0        0\n",
       "\n",
       "[3672 rows x 3 columns]"
      ]
     },
     "execution_count": 60,
     "metadata": {},
     "output_type": "execute_result"
    }
   ],
   "source": [
    "GLU_L\n"
   ]
  },
  {
   "cell_type": "markdown",
   "id": "473273cb-eaa0-4005-8f00-21681a450bd2",
   "metadata": {},
   "source": [
    "Vitamin D\n",
    "*https://wwwn.cdc.gov/nchs/nhanes/search/datapage.aspx?Component=Laboratory&Cycle=2021-2023"
   ]
  },
  {
   "cell_type": "code",
   "execution_count": 18,
   "id": "5cfd99a2-ce4f-4488-8bd1-c997e2d27888",
   "metadata": {},
   "outputs": [
    {
     "name": "stdout",
     "output_type": "stream",
     "text": [
      "Conversion complete! CSV file saved at: VID_L.csv\n"
     ]
    }
   ],
   "source": [
    "convert_xpt_to_csv(\"VID_L.xpt\", \"VID_L.csv\")"
   ]
  },
  {
   "cell_type": "markdown",
   "id": "18482595-4e87-4d9f-a305-b3444264e4e3",
   "metadata": {},
   "source": [
    "August 2021-August 2023 Examination Data - Continuous NHANES\n",
    "Blood Pressure - Oscillometric Measurements\n",
    "*https://wwwn.cdc.gov/nchs/nhanes/search/datapage.aspx?Component=Examination&Cycle=2021-2023"
   ]
  },
  {
   "cell_type": "code",
   "execution_count": 20,
   "id": "b06c504b-6fcb-49de-9260-26a1bb51a6b9",
   "metadata": {},
   "outputs": [
    {
     "name": "stdout",
     "output_type": "stream",
     "text": [
      "Conversion complete! CSV file saved at: BPXO_L.csv\n"
     ]
    }
   ],
   "source": [
    "convert_xpt_to_csv(\"BPXO_L.xpt\", \"BPXO_L.csv\")"
   ]
  },
  {
   "cell_type": "markdown",
   "id": "484d9584-75d8-4d5c-9fc8-41ad036eadae",
   "metadata": {},
   "source": [
    "Body Measures\n",
    "*https://wwwn.cdc.gov/nchs/nhanes/search/datapage.aspx?Component=Examination&Cycle=2021-2023"
   ]
  },
  {
   "cell_type": "code",
   "execution_count": 26,
   "id": "0db4b3aa-9a4b-4ed8-a344-066fa9432387",
   "metadata": {},
   "outputs": [
    {
     "data": {
      "text/html": [
       "<div>\n",
       "<style scoped>\n",
       "    .dataframe tbody tr th:only-of-type {\n",
       "        vertical-align: middle;\n",
       "    }\n",
       "\n",
       "    .dataframe tbody tr th {\n",
       "        vertical-align: top;\n",
       "    }\n",
       "\n",
       "    .dataframe thead th {\n",
       "        text-align: right;\n",
       "    }\n",
       "</style>\n",
       "<table border=\"1\" class=\"dataframe\">\n",
       "  <thead>\n",
       "    <tr style=\"text-align: right;\">\n",
       "      <th></th>\n",
       "      <th>SEQN</th>\n",
       "      <th>BMXBMI</th>\n",
       "      <th>BMXWAIST</th>\n",
       "    </tr>\n",
       "  </thead>\n",
       "  <tbody>\n",
       "    <tr>\n",
       "      <th>0</th>\n",
       "      <td>130378.0</td>\n",
       "      <td>27.0</td>\n",
       "      <td>98.3</td>\n",
       "    </tr>\n",
       "    <tr>\n",
       "      <th>1</th>\n",
       "      <td>130379.0</td>\n",
       "      <td>33.5</td>\n",
       "      <td>114.7</td>\n",
       "    </tr>\n",
       "    <tr>\n",
       "      <th>2</th>\n",
       "      <td>130380.0</td>\n",
       "      <td>29.7</td>\n",
       "      <td>93.5</td>\n",
       "    </tr>\n",
       "    <tr>\n",
       "      <th>3</th>\n",
       "      <td>130381.0</td>\n",
       "      <td>23.8</td>\n",
       "      <td>70.4</td>\n",
       "    </tr>\n",
       "    <tr>\n",
       "      <th>5</th>\n",
       "      <td>130386.0</td>\n",
       "      <td>30.2</td>\n",
       "      <td>106.1</td>\n",
       "    </tr>\n",
       "    <tr>\n",
       "      <th>...</th>\n",
       "      <td>...</td>\n",
       "      <td>...</td>\n",
       "      <td>...</td>\n",
       "    </tr>\n",
       "    <tr>\n",
       "      <th>8854</th>\n",
       "      <td>142305.0</td>\n",
       "      <td>26.4</td>\n",
       "      <td>89.0</td>\n",
       "    </tr>\n",
       "    <tr>\n",
       "      <th>8855</th>\n",
       "      <td>142306.0</td>\n",
       "      <td>15.4</td>\n",
       "      <td>57.7</td>\n",
       "    </tr>\n",
       "    <tr>\n",
       "      <th>8857</th>\n",
       "      <td>142308.0</td>\n",
       "      <td>26.4</td>\n",
       "      <td>98.4</td>\n",
       "    </tr>\n",
       "    <tr>\n",
       "      <th>8858</th>\n",
       "      <td>142309.0</td>\n",
       "      <td>25.5</td>\n",
       "      <td>96.0</td>\n",
       "    </tr>\n",
       "    <tr>\n",
       "      <th>8859</th>\n",
       "      <td>142310.0</td>\n",
       "      <td>27.6</td>\n",
       "      <td>110.8</td>\n",
       "    </tr>\n",
       "  </tbody>\n",
       "</table>\n",
       "<p>8165 rows × 3 columns</p>\n",
       "</div>"
      ],
      "text/plain": [
       "          SEQN  BMXBMI  BMXWAIST\n",
       "0     130378.0    27.0      98.3\n",
       "1     130379.0    33.5     114.7\n",
       "2     130380.0    29.7      93.5\n",
       "3     130381.0    23.8      70.4\n",
       "5     130386.0    30.2     106.1\n",
       "...        ...     ...       ...\n",
       "8854  142305.0    26.4      89.0\n",
       "8855  142306.0    15.4      57.7\n",
       "8857  142308.0    26.4      98.4\n",
       "8858  142309.0    25.5      96.0\n",
       "8859  142310.0    27.6     110.8\n",
       "\n",
       "[8165 rows x 3 columns]"
      ]
     },
     "execution_count": 26,
     "metadata": {},
     "output_type": "execute_result"
    }
   ],
   "source": [
    "#convert_xpt_to_csv(\"BMX_L.xpt\", \"BMX_L.csv\")\n",
    "#CLEANING GLU_L.CSV\n",
    "BMX_L = pd.read_csv('BMX_L.csv')\n",
    "#BMX_L\n",
    "#we are interested in only and SEQN BMXBMI\n",
    "BMX_L = BMX_L[['SEQN', 'BMXBMI', 'BMXWAIST']]\n",
    "BMX_L\n",
    "\n",
    "## count null\n",
    "#BMX_L['BMXBMI'].isnull().sum(axis = 0)\n",
    "# null count =  389\n",
    "\n",
    "BMX_L = BMX_L.dropna()\n",
    "BMX_L['BMXBMI'].isnull().sum(axis = 0)\n",
    "# null count = 0\n",
    "BMX_L"
   ]
  },
  {
   "cell_type": "code",
   "execution_count": 86,
   "id": "7a0bf9a7-522f-404e-af80-1f5cbb0d3465",
   "metadata": {},
   "outputs": [
    {
     "name": "stderr",
     "output_type": "stream",
     "text": [
      "C:\\Users\\trash\\AppData\\Local\\Temp\\ipykernel_24436\\1758271486.py:15: UserWarning: No artists with labels found to put in legend.  Note that artists whose label start with an underscore are ignored when legend() is called with no argument.\n",
      "  plt.legend()\n"
     ]
    },
    {
     "data": {
      "image/png": "[encoded data removed]",
      "text/plain": [
       "<Figure size 640x480 with 1 Axes>"
      ]
     },
     "metadata": {},
     "output_type": "display_data"
    }
   ],
   "source": [
    "### EDA BMI WAIST VS LBXGLU we should see a positive correlation\n",
    "\n",
    "BMI_LBXGLU = pd.merge(GLU_L, BMX_L, how='inner')\n",
    "BMI_LBXGLU\n",
    "\n",
    "plt.scatter(BMI_LBXGLU.BMXWAIST, BMI_LBXGLU.LBXGLU)\n",
    "\n",
    "# Add labels and title\n",
    "plt.xlabel('Waist Circumference')\n",
    "plt.ylabel('PFG')\n",
    "plt.title('Scatterplot: Waist Circumference VS PFG EDA')\n",
    "\n",
    "# Add grid and legend\n",
    "plt.grid(True)\n",
    "plt.legend()\n",
    "plt.axhline(y = 126, color = 'r', linestyle = '--') \n",
    "plt.savefig('Scatterplot_Waist_circumference_vs_Diabetes_EDA.png', dpi=300)\n",
    "\n",
    "# Show the plot\n",
    "plt.show();\n",
    "\n",
    "## data might be dirty"
   ]
  },
  {
   "cell_type": "code",
   "execution_count": 28,
   "id": "bb3de9a8-c3d7-4321-b2c7-723d9247ac18",
   "metadata": {},
   "outputs": [
    {
     "ename": "NameError",
     "evalue": "name 'BMI_LBXGLU' is not defined",
     "output_type": "error",
     "traceback": [
      "\u001b[1;31m---------------------------------------------------------------------------\u001b[0m",
      "\u001b[1;31mNameError\u001b[0m                                 Traceback (most recent call last)",
      "Cell \u001b[1;32mIn[28], line 1\u001b[0m\n\u001b[1;32m----> 1\u001b[0m plt\u001b[38;5;241m.\u001b[39mscatter(BMI_LBXGLU\u001b[38;5;241m.\u001b[39mBMXBMI, BMI_LBXGLU\u001b[38;5;241m.\u001b[39mDIAB_POS)\n\u001b[0;32m      3\u001b[0m \u001b[38;5;66;03m# Add labels and title\u001b[39;00m\n\u001b[0;32m      4\u001b[0m plt\u001b[38;5;241m.\u001b[39mxlabel(\u001b[38;5;124m'\u001b[39m\u001b[38;5;124mBMI\u001b[39m\u001b[38;5;124m'\u001b[39m)\n",
      "\u001b[1;31mNameError\u001b[0m: name 'BMI_LBXGLU' is not defined"
     ]
    }
   ],
   "source": [
    "plt.scatter(BMI_LBXGLU.BMXBMI, BMI_LBXGLU.DIAB_POS)\n",
    "\n",
    "# Add labels and title\n",
    "plt.xlabel('BMI')\n",
    "plt.ylabel('PFG')\n",
    "plt.title('BMI VS DIABETES-PFG EDA')\n",
    "\n",
    "# Add grid and legend\n",
    "plt.grid(True)\n",
    "plt.legend()\n",
    "plt.savefig('Waist_circumference_vs_Diabetes_EDA.png', dpi=300)\n",
    "\n",
    "# Show the plot\n",
    "plt.show();"
   ]
  },
  {
   "cell_type": "code",
   "execution_count": 84,
   "id": "023d6b4b-57ba-4f66-ab7d-0b6e5331944a",
   "metadata": {},
   "outputs": [
    {
     "name": "stderr",
     "output_type": "stream",
     "text": [
      "C:\\Users\\trash\\AppData\\Local\\Temp\\ipykernel_24436\\1636963836.py:15: UserWarning: No artists with labels found to put in legend.  Note that artists whose label start with an underscore are ignored when legend() is called with no argument.\n",
      "  plt.legend()\n"
     ]
    },
    {
     "data": {
      "image/png": "[encoded data removed]",
      "text/plain": [
       "<Figure size 640x480 with 1 Axes>"
      ]
     },
     "metadata": {},
     "output_type": "display_data"
    }
   ],
   "source": [
    "### EDA BMXWAIST VS LBXGH we should see a positive correlation\n",
    "\n",
    "BMI_LBXGH = pd.merge(GHB_L, BMX_L, how='inner')\n",
    "BMI_LBXGH\n",
    "\n",
    "plt.scatter(BMI_LBXGH.BMXWAIST, BMI_LBXGH.LBXGH)\n",
    "\n",
    "# Add labels and title\n",
    "plt.xlabel('WAIST circumference (cm)')\n",
    "plt.ylabel('A1C')\n",
    "plt.title('Scatterplot: Waist Circumference VS A1C EDA')\n",
    "plt.axhline(y = 6.5, color = 'r', linestyle = '--') \n",
    "# Add grid and legend\n",
    "plt.grid(True)\n",
    "plt.legend()\n",
    "plt.savefig('Waist_circumference_vs_Diabetes_A1c_EDA.png', dpi=300)\n",
    "# Show the plot\n",
    "plt.show();\n"
   ]
  },
  {
   "cell_type": "code",
   "execution_count": 50,
   "id": "d61c3fa6-b753-4052-a561-3b12180038e6",
   "metadata": {},
   "outputs": [
    {
     "data": {
      "text/html": [
       "<div>\n",
       "<style scoped>\n",
       "    .dataframe tbody tr th:only-of-type {\n",
       "        vertical-align: middle;\n",
       "    }\n",
       "\n",
       "    .dataframe tbody tr th {\n",
       "        vertical-align: top;\n",
       "    }\n",
       "\n",
       "    .dataframe thead th {\n",
       "        text-align: right;\n",
       "    }\n",
       "</style>\n",
       "<table border=\"1\" class=\"dataframe\">\n",
       "  <thead>\n",
       "    <tr style=\"text-align: right;\">\n",
       "      <th></th>\n",
       "      <th>SEQN</th>\n",
       "      <th>LBXGH</th>\n",
       "      <th>DIAB_POS</th>\n",
       "      <th>BMXBMI</th>\n",
       "      <th>BMXWAIST</th>\n",
       "    </tr>\n",
       "  </thead>\n",
       "  <tbody>\n",
       "    <tr>\n",
       "      <th>0</th>\n",
       "      <td>130378.0</td>\n",
       "      <td>5.6</td>\n",
       "      <td>0</td>\n",
       "      <td>27.0</td>\n",
       "      <td>98.3</td>\n",
       "    </tr>\n",
       "    <tr>\n",
       "      <th>1</th>\n",
       "      <td>130379.0</td>\n",
       "      <td>5.6</td>\n",
       "      <td>0</td>\n",
       "      <td>33.5</td>\n",
       "      <td>114.7</td>\n",
       "    </tr>\n",
       "    <tr>\n",
       "      <th>2</th>\n",
       "      <td>130380.0</td>\n",
       "      <td>6.2</td>\n",
       "      <td>0</td>\n",
       "      <td>29.7</td>\n",
       "      <td>93.5</td>\n",
       "    </tr>\n",
       "    <tr>\n",
       "      <th>3</th>\n",
       "      <td>130386.0</td>\n",
       "      <td>5.1</td>\n",
       "      <td>0</td>\n",
       "      <td>30.2</td>\n",
       "      <td>106.1</td>\n",
       "    </tr>\n",
       "    <tr>\n",
       "      <th>4</th>\n",
       "      <td>130387.0</td>\n",
       "      <td>5.9</td>\n",
       "      <td>0</td>\n",
       "      <td>42.6</td>\n",
       "      <td>122.0</td>\n",
       "    </tr>\n",
       "    <tr>\n",
       "      <th>...</th>\n",
       "      <td>...</td>\n",
       "      <td>...</td>\n",
       "      <td>...</td>\n",
       "      <td>...</td>\n",
       "      <td>...</td>\n",
       "    </tr>\n",
       "    <tr>\n",
       "      <th>6394</th>\n",
       "      <td>142302.0</td>\n",
       "      <td>5.2</td>\n",
       "      <td>0</td>\n",
       "      <td>21.4</td>\n",
       "      <td>79.7</td>\n",
       "    </tr>\n",
       "    <tr>\n",
       "      <th>6395</th>\n",
       "      <td>142303.0</td>\n",
       "      <td>8.1</td>\n",
       "      <td>1</td>\n",
       "      <td>27.9</td>\n",
       "      <td>111.0</td>\n",
       "    </tr>\n",
       "    <tr>\n",
       "      <th>6396</th>\n",
       "      <td>142305.0</td>\n",
       "      <td>6.0</td>\n",
       "      <td>0</td>\n",
       "      <td>26.4</td>\n",
       "      <td>89.0</td>\n",
       "    </tr>\n",
       "    <tr>\n",
       "      <th>6397</th>\n",
       "      <td>142309.0</td>\n",
       "      <td>5.2</td>\n",
       "      <td>0</td>\n",
       "      <td>25.5</td>\n",
       "      <td>96.0</td>\n",
       "    </tr>\n",
       "    <tr>\n",
       "      <th>6398</th>\n",
       "      <td>142310.0</td>\n",
       "      <td>5.3</td>\n",
       "      <td>0</td>\n",
       "      <td>27.6</td>\n",
       "      <td>110.8</td>\n",
       "    </tr>\n",
       "  </tbody>\n",
       "</table>\n",
       "<p>6399 rows × 5 columns</p>\n",
       "</div>"
      ],
      "text/plain": [
       "          SEQN  LBXGH DIAB_POS  BMXBMI  BMXWAIST\n",
       "0     130378.0    5.6        0    27.0      98.3\n",
       "1     130379.0    5.6        0    33.5     114.7\n",
       "2     130380.0    6.2        0    29.7      93.5\n",
       "3     130386.0    5.1        0    30.2     106.1\n",
       "4     130387.0    5.9        0    42.6     122.0\n",
       "...        ...    ...      ...     ...       ...\n",
       "6394  142302.0    5.2        0    21.4      79.7\n",
       "6395  142303.0    8.1        1    27.9     111.0\n",
       "6396  142305.0    6.0        0    26.4      89.0\n",
       "6397  142309.0    5.2        0    25.5      96.0\n",
       "6398  142310.0    5.3        0    27.6     110.8\n",
       "\n",
       "[6399 rows x 5 columns]"
      ]
     },
     "execution_count": 50,
     "metadata": {},
     "output_type": "execute_result"
    }
   ],
   "source": [
    "BMI_LBXGH"
   ]
  },
  {
   "cell_type": "code",
   "execution_count": 46,
   "id": "5c4eec8e-ee11-4e0b-8beb-7723510d4847",
   "metadata": {},
   "outputs": [
    {
     "data": {
      "text/html": [
       "<div>\n",
       "<style scoped>\n",
       "    .dataframe tbody tr th:only-of-type {\n",
       "        vertical-align: middle;\n",
       "    }\n",
       "\n",
       "    .dataframe tbody tr th {\n",
       "        vertical-align: top;\n",
       "    }\n",
       "\n",
       "    .dataframe thead th {\n",
       "        text-align: right;\n",
       "    }\n",
       "</style>\n",
       "<table border=\"1\" class=\"dataframe\">\n",
       "  <thead>\n",
       "    <tr style=\"text-align: right;\">\n",
       "      <th></th>\n",
       "      <th>SEQN</th>\n",
       "      <th>LBXGH</th>\n",
       "      <th>DIAB_POS</th>\n",
       "      <th>BMXBMI</th>\n",
       "      <th>BMXWAIST</th>\n",
       "    </tr>\n",
       "  </thead>\n",
       "  <tbody>\n",
       "    <tr>\n",
       "      <th>0</th>\n",
       "      <td>130378.0</td>\n",
       "      <td>5.6</td>\n",
       "      <td>0</td>\n",
       "      <td>27.0</td>\n",
       "      <td>98.3</td>\n",
       "    </tr>\n",
       "    <tr>\n",
       "      <th>1</th>\n",
       "      <td>130379.0</td>\n",
       "      <td>5.6</td>\n",
       "      <td>0</td>\n",
       "      <td>33.5</td>\n",
       "      <td>114.7</td>\n",
       "    </tr>\n",
       "    <tr>\n",
       "      <th>2</th>\n",
       "      <td>130380.0</td>\n",
       "      <td>6.2</td>\n",
       "      <td>0</td>\n",
       "      <td>29.7</td>\n",
       "      <td>93.5</td>\n",
       "    </tr>\n",
       "    <tr>\n",
       "      <th>3</th>\n",
       "      <td>130386.0</td>\n",
       "      <td>5.1</td>\n",
       "      <td>0</td>\n",
       "      <td>30.2</td>\n",
       "      <td>106.1</td>\n",
       "    </tr>\n",
       "    <tr>\n",
       "      <th>4</th>\n",
       "      <td>130387.0</td>\n",
       "      <td>5.9</td>\n",
       "      <td>0</td>\n",
       "      <td>42.6</td>\n",
       "      <td>122.0</td>\n",
       "    </tr>\n",
       "    <tr>\n",
       "      <th>...</th>\n",
       "      <td>...</td>\n",
       "      <td>...</td>\n",
       "      <td>...</td>\n",
       "      <td>...</td>\n",
       "      <td>...</td>\n",
       "    </tr>\n",
       "    <tr>\n",
       "      <th>6394</th>\n",
       "      <td>142302.0</td>\n",
       "      <td>5.2</td>\n",
       "      <td>0</td>\n",
       "      <td>21.4</td>\n",
       "      <td>79.7</td>\n",
       "    </tr>\n",
       "    <tr>\n",
       "      <th>6395</th>\n",
       "      <td>142303.0</td>\n",
       "      <td>8.1</td>\n",
       "      <td>1</td>\n",
       "      <td>27.9</td>\n",
       "      <td>111.0</td>\n",
       "    </tr>\n",
       "    <tr>\n",
       "      <th>6396</th>\n",
       "      <td>142305.0</td>\n",
       "      <td>6.0</td>\n",
       "      <td>0</td>\n",
       "      <td>26.4</td>\n",
       "      <td>89.0</td>\n",
       "    </tr>\n",
       "    <tr>\n",
       "      <th>6397</th>\n",
       "      <td>142309.0</td>\n",
       "      <td>5.2</td>\n",
       "      <td>0</td>\n",
       "      <td>25.5</td>\n",
       "      <td>96.0</td>\n",
       "    </tr>\n",
       "    <tr>\n",
       "      <th>6398</th>\n",
       "      <td>142310.0</td>\n",
       "      <td>5.3</td>\n",
       "      <td>0</td>\n",
       "      <td>27.6</td>\n",
       "      <td>110.8</td>\n",
       "    </tr>\n",
       "  </tbody>\n",
       "</table>\n",
       "<p>6399 rows × 5 columns</p>\n",
       "</div>"
      ],
      "text/plain": [
       "          SEQN  LBXGH DIAB_POS  BMXBMI  BMXWAIST\n",
       "0     130378.0    5.6        0    27.0      98.3\n",
       "1     130379.0    5.6        0    33.5     114.7\n",
       "2     130380.0    6.2        0    29.7      93.5\n",
       "3     130386.0    5.1        0    30.2     106.1\n",
       "4     130387.0    5.9        0    42.6     122.0\n",
       "...        ...    ...      ...     ...       ...\n",
       "6394  142302.0    5.2        0    21.4      79.7\n",
       "6395  142303.0    8.1        1    27.9     111.0\n",
       "6396  142305.0    6.0        0    26.4      89.0\n",
       "6397  142309.0    5.2        0    25.5      96.0\n",
       "6398  142310.0    5.3        0    27.6     110.8\n",
       "\n",
       "[6399 rows x 5 columns]"
      ]
     },
     "execution_count": 46,
     "metadata": {},
     "output_type": "execute_result"
    }
   ],
   "source": [
    "## dummy variable diab_pos using a1c test\n",
    "plt.scatter(BMI_LBXGH.BMXBMI, BMI_LBXGH.DIAB_POS)\n",
    "\n",
    "# Add labels and title\n",
    "plt.xlabel('BMI')\n",
    "plt.ylabel('PFG')\n",
    "plt.title('BMI VS DIABETES-PFG EDA')\n",
    "\n",
    "# Add grid and legend\n",
    "plt.grid(True)\n",
    "plt.legend()\n",
    "plt.savefig('BMI_Diabetes_EDA.png', dpi=300)\n",
    "\n",
    "# Show the plot\n",
    "plt.show();"
   ]
  },
  {
   "cell_type": "code",
   "execution_count": 90,
   "id": "91a63d3b-8665-4311-bcd4-a8a88667a8dc",
   "metadata": {},
   "outputs": [
    {
     "data": {
      "text/plain": [
       "DIAB_POS\n",
       "0    3242\n",
       "1     430\n",
       "Name: count, dtype: int64"
      ]
     },
     "execution_count": 90,
     "metadata": {},
     "output_type": "execute_result"
    }
   ],
   "source": []
  },
  {
   "cell_type": "markdown",
   "id": "25bd67b6-1bf9-4e94-b76e-f35bac59a97a",
   "metadata": {},
   "source": [
    "August 2021-August 2023 Questionnaire Data - Continuous NHANES\n",
    "Diabetes\n",
    "*https://wwwn.cdc.gov/nchs/nhanes/search/datapage.aspx?Component=Questionnaire&Cycle=2021-2023"
   ]
  },
  {
   "cell_type": "code",
   "execution_count": 28,
   "id": "fe57e078-e28c-4f58-8ef6-15463e04c3b0",
   "metadata": {},
   "outputs": [
    {
     "name": "stdout",
     "output_type": "stream",
     "text": [
      "Conversion complete! CSV file saved at: DIQ_L.csv\n"
     ]
    }
   ],
   "source": [
    "convert_xpt_to_csv(\"DIQ_L.xpt\", \"DIQ_L.csv\")"
   ]
  },
  {
   "cell_type": "markdown",
   "id": "cf5c1ea8-85c5-443d-9359-377fad756469",
   "metadata": {},
   "source": [
    "Alcohol Use\n",
    "https://wwwn.cdc.gov/nchs/nhanes/search/datapage.aspx?Component=Questionnaire&Cycle=2021-2023"
   ]
  },
  {
   "cell_type": "code",
   "execution_count": 30,
   "id": "cd689469-f1c0-4a78-9e88-18303103f7dd",
   "metadata": {},
   "outputs": [
    {
     "name": "stdout",
     "output_type": "stream",
     "text": [
      "Conversion complete! CSV file saved at: ALQ_L.csv\n"
     ]
    }
   ],
   "source": [
    "convert_xpt_to_csv(\"ALQ_L.xpt\", \"ALQ_L.csv\")"
   ]
  },
  {
   "cell_type": "markdown",
   "id": "786eac0a-af69-47a9-a269-471954e65959",
   "metadata": {},
   "source": [
    "Physical Activity\n",
    "https://wwwn.cdc.gov/nchs/nhanes/search/datapage.aspx?Component=Questionnaire&Cycle=2021-2023\n",
    "\n",
    "\n"
   ]
  },
  {
   "cell_type": "code",
   "execution_count": 32,
   "id": "dd1d1980-178e-45cd-aee6-01157389f02b",
   "metadata": {},
   "outputs": [
    {
     "name": "stdout",
     "output_type": "stream",
     "text": [
      "Conversion complete! CSV file saved at: PAQ_L.csv\n"
     ]
    }
   ],
   "source": [
    "#convert_xpt_to_csv(\"PAQ_L.xpt\", \"PAQ_L.csv\")\n",
    "\n"
   ]
  },
  {
   "cell_type": "markdown",
   "id": "a2f2f055-19e8-4a58-bb04-578a138947e3",
   "metadata": {},
   "source": [
    "Smoking - Cigarette Use\n",
    "*https://wwwn.cdc.gov/nchs/nhanes/search/datapage.aspx?Component=Questionnaire&Cycle=2021-2023"
   ]
  },
  {
   "cell_type": "code",
   "execution_count": 34,
   "id": "cbcad5a4-5683-404d-9ace-25425c10a144",
   "metadata": {},
   "outputs": [
    {
     "name": "stdout",
     "output_type": "stream",
     "text": [
      "Conversion complete! CSV file saved at: SMQ_L.csv\n"
     ]
    }
   ],
   "source": [
    "convert_xpt_to_csv(\"SMQ_L.xpt\", \"SMQ_L.csv\")"
   ]
  },
  {
   "cell_type": "markdown",
   "id": "c3583c93-2e09-4152-b548-2453e92385f9",
   "metadata": {},
   "source": [
    "Mental Health - Depression Screener\n",
    "*https://wwwn.cdc.gov/nchs/nhanes/search/datapage.aspx?Component=Questionnaire&Cycle=2021-2023"
   ]
  },
  {
   "cell_type": "code",
   "execution_count": 36,
   "id": "b8641704-389b-4f64-8b19-ec99befba325",
   "metadata": {},
   "outputs": [
    {
     "name": "stdout",
     "output_type": "stream",
     "text": [
      "Conversion complete! CSV file saved at: DPQ_L.csv\n"
     ]
    }
   ],
   "source": [
    "convert_xpt_to_csv(\"DPQ_L.xpt\", \"DPQ_L.csv\")"
   ]
  },
  {
   "cell_type": "code",
   "execution_count": 88,
   "id": "5ae2f896-4a15-454e-8a8a-2087b71e9e5a",
   "metadata": {},
   "outputs": [
    {
     "data": {
      "text/html": [
       "<div>\n",
       "<style scoped>\n",
       "    .dataframe tbody tr th:only-of-type {\n",
       "        vertical-align: middle;\n",
       "    }\n",
       "\n",
       "    .dataframe tbody tr th {\n",
       "        vertical-align: top;\n",
       "    }\n",
       "\n",
       "    .dataframe thead th {\n",
       "        text-align: right;\n",
       "    }\n",
       "</style>\n",
       "<table border=\"1\" class=\"dataframe\">\n",
       "  <thead>\n",
       "    <tr style=\"text-align: right;\">\n",
       "      <th></th>\n",
       "      <th>SEQN</th>\n",
       "      <th>LBXGLU</th>\n",
       "      <th>DIAB_POS</th>\n",
       "      <th>BMXBMI</th>\n",
       "      <th>BMXWAIST</th>\n",
       "    </tr>\n",
       "  </thead>\n",
       "  <tbody>\n",
       "    <tr>\n",
       "      <th>0</th>\n",
       "      <td>130378.0</td>\n",
       "      <td>113.0</td>\n",
       "      <td>0</td>\n",
       "      <td>27.0</td>\n",
       "      <td>98.3</td>\n",
       "    </tr>\n",
       "    <tr>\n",
       "      <th>1</th>\n",
       "      <td>130379.0</td>\n",
       "      <td>99.0</td>\n",
       "      <td>0</td>\n",
       "      <td>33.5</td>\n",
       "      <td>114.7</td>\n",
       "    </tr>\n",
       "    <tr>\n",
       "      <th>2</th>\n",
       "      <td>130380.0</td>\n",
       "      <td>156.0</td>\n",
       "      <td>1</td>\n",
       "      <td>29.7</td>\n",
       "      <td>93.5</td>\n",
       "    </tr>\n",
       "    <tr>\n",
       "      <th>3</th>\n",
       "      <td>130386.0</td>\n",
       "      <td>100.0</td>\n",
       "      <td>0</td>\n",
       "      <td>30.2</td>\n",
       "      <td>106.1</td>\n",
       "    </tr>\n",
       "    <tr>\n",
       "      <th>4</th>\n",
       "      <td>130394.0</td>\n",
       "      <td>88.0</td>\n",
       "      <td>0</td>\n",
       "      <td>24.4</td>\n",
       "      <td>92.1</td>\n",
       "    </tr>\n",
       "    <tr>\n",
       "      <th>...</th>\n",
       "      <td>...</td>\n",
       "      <td>...</td>\n",
       "      <td>...</td>\n",
       "      <td>...</td>\n",
       "      <td>...</td>\n",
       "    </tr>\n",
       "    <tr>\n",
       "      <th>3493</th>\n",
       "      <td>142299.0</td>\n",
       "      <td>204.0</td>\n",
       "      <td>1</td>\n",
       "      <td>35.7</td>\n",
       "      <td>121.8</td>\n",
       "    </tr>\n",
       "    <tr>\n",
       "      <th>3494</th>\n",
       "      <td>142300.0</td>\n",
       "      <td>95.0</td>\n",
       "      <td>0</td>\n",
       "      <td>32.6</td>\n",
       "      <td>97.6</td>\n",
       "    </tr>\n",
       "    <tr>\n",
       "      <th>3495</th>\n",
       "      <td>142303.0</td>\n",
       "      <td>160.0</td>\n",
       "      <td>1</td>\n",
       "      <td>27.9</td>\n",
       "      <td>111.0</td>\n",
       "    </tr>\n",
       "    <tr>\n",
       "      <th>3496</th>\n",
       "      <td>142305.0</td>\n",
       "      <td>132.0</td>\n",
       "      <td>1</td>\n",
       "      <td>26.4</td>\n",
       "      <td>89.0</td>\n",
       "    </tr>\n",
       "    <tr>\n",
       "      <th>3497</th>\n",
       "      <td>142309.0</td>\n",
       "      <td>96.0</td>\n",
       "      <td>0</td>\n",
       "      <td>25.5</td>\n",
       "      <td>96.0</td>\n",
       "    </tr>\n",
       "  </tbody>\n",
       "</table>\n",
       "<p>3498 rows × 5 columns</p>\n",
       "</div>"
      ],
      "text/plain": [
       "          SEQN  LBXGLU DIAB_POS  BMXBMI  BMXWAIST\n",
       "0     130378.0   113.0        0    27.0      98.3\n",
       "1     130379.0    99.0        0    33.5     114.7\n",
       "2     130380.0   156.0        1    29.7      93.5\n",
       "3     130386.0   100.0        0    30.2     106.1\n",
       "4     130394.0    88.0        0    24.4      92.1\n",
       "...        ...     ...      ...     ...       ...\n",
       "3493  142299.0   204.0        1    35.7     121.8\n",
       "3494  142300.0    95.0        0    32.6      97.6\n",
       "3495  142303.0   160.0        1    27.9     111.0\n",
       "3496  142305.0   132.0        1    26.4      89.0\n",
       "3497  142309.0    96.0        0    25.5      96.0\n",
       "\n",
       "[3498 rows x 5 columns]"
      ]
     },
     "execution_count": 88,
     "metadata": {},
     "output_type": "execute_result"
    }
   ],
   "source": [
    "BMI_LBXGLU"
   ]
  },
  {
   "cell_type": "code",
   "execution_count": null,
   "id": "670deb9b-ba3b-4afe-aa56-0b11135f390d",
   "metadata": {},
   "outputs": [],
   "source": []
  }
 ],
 "metadata": {
  "kernelspec": {
   "display_name": "Python [conda env:base] *",
   "language": "python",
   "name": "conda-base-py"
  },
  "language_info": {
   "codemirror_mode": {
    "name": "ipython",
    "version": 3
   },
   "file_extension": ".py",
   "mimetype": "text/x-python",
   "name": "python",
   "nbconvert_exporter": "python",
   "pygments_lexer": "ipython3",
   "version": "3.12.7"
  }
 },
 "nbformat": 4,
 "nbformat_minor": 5
}
