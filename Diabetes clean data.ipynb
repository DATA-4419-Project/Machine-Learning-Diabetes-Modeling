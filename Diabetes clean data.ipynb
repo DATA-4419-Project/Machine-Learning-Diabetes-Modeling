{
 "cells": [
  {
   "cell_type": "code",
   "execution_count": 72,
   "id": "a509216a-3f8e-4d5b-8bd8-a404239a61c2",
   "metadata": {},
   "outputs": [],
   "source": [
    "import pandas as pd"
   ]
  },
  {
   "cell_type": "code",
   "execution_count": 98,
   "id": "8e7d92c6-4455-4a66-89ba-449b8553a040",
   "metadata": {},
   "outputs": [],
   "source": [
    "## Loading in data\n",
    "demographic = pd.read_csv('/Users/cartersilos/Downloads/demo_l (1).csv')\n",
    "questionnaire = pd.read_csv('/Users/cartersilos/Downloads/diq_l (1).csv')"
   ]
  },
  {
   "cell_type": "code",
   "execution_count": 250,
   "id": "549486d6-9049-4557-90ba-ebc12526f2e1",
   "metadata": {},
   "outputs": [
    {
     "data": {
      "text/plain": [
       "Index(['SEQN', 'SDDSRVYR', 'RIDSTATR', 'RIAGENDR', 'RIDAGEYR', 'RIDAGEMN',\n",
       "       'RIDRETH1', 'RIDRETH3', 'RIDEXMON', 'RIDEXAGM', 'DMQMILIZ', 'DMDBORN4',\n",
       "       'DMDYRUSR', 'DMDEDUC2', 'DMDMARTZ', 'RIDEXPRG', 'DMDHHSIZ', 'DMDHRGND',\n",
       "       'DMDHRAGZ', 'DMDHREDZ', 'DMDHRMAZ', 'DMDHSEDZ', 'WTINT2YR', 'WTMEC2YR',\n",
       "       'SDMVSTRA', 'SDMVPSU', 'INDFMPIR'],\n",
       "      dtype='object')"
      ]
     },
     "execution_count": 250,
     "metadata": {},
     "output_type": "execute_result"
    }
   ],
   "source": [
    "## Printed out columns to show which variables belong to which data set\n",
    "demographic.columns"
   ]
  },
  {
   "cell_type": "code",
   "execution_count": 252,
   "id": "c387cc14-150b-4732-9195-6ebe16a956f5",
   "metadata": {},
   "outputs": [
    {
     "data": {
      "text/plain": [
       "Index(['SEQN', 'DIQ010', 'DID040', 'DIQ160', 'DIQ180', 'DIQ050', 'DID060',\n",
       "       'DIQ060U', 'DIQ070'],\n",
       "      dtype='object')"
      ]
     },
     "execution_count": 252,
     "metadata": {},
     "output_type": "execute_result"
    }
   ],
   "source": [
    "## Printed out columns to show which variables belong to which data set\n",
    "questionnaire.columns"
   ]
  },
  {
   "cell_type": "code",
   "execution_count": 254,
   "id": "f92a73d5-aa0a-4321-ab78-0502526eab70",
   "metadata": {
    "scrolled": true
   },
   "outputs": [
    {
     "name": "stdout",
     "output_type": "stream",
     "text": [
      "           SEQN  SDDSRVYR  RIDSTATR  RIAGENDR  RIDAGEYR  RIDAGEMN  RIDRETH1  \\\n",
      "0      130378.0      12.0       2.0       1.0      43.0       NaN       5.0   \n",
      "1      130379.0      12.0       2.0       1.0      66.0       NaN       3.0   \n",
      "2      130380.0      12.0       2.0       2.0      44.0       NaN       2.0   \n",
      "3      130381.0      12.0       2.0       2.0       5.0       NaN       5.0   \n",
      "4      130382.0      12.0       2.0       1.0       2.0       NaN       3.0   \n",
      "...         ...       ...       ...       ...       ...       ...       ...   \n",
      "11928  142306.0      12.0       2.0       1.0       9.0       NaN       2.0   \n",
      "11929  142307.0      12.0       2.0       2.0      49.0       NaN       4.0   \n",
      "11930  142308.0      12.0       2.0       1.0      50.0       NaN       2.0   \n",
      "11931  142309.0      12.0       2.0       1.0      40.0       NaN       2.0   \n",
      "11932  142310.0      12.0       2.0       2.0      80.0       NaN       3.0   \n",
      "\n",
      "       RIDRETH3  RIDEXMON  RIDEXAGM  ...  DMDHRGND  DMDHRAGZ  DMDHREDZ  \\\n",
      "0           6.0       2.0       NaN  ...       NaN       NaN       NaN   \n",
      "1           3.0       2.0       NaN  ...       NaN       NaN       NaN   \n",
      "2           2.0       1.0       NaN  ...       NaN       NaN       NaN   \n",
      "3           7.0       1.0      71.0  ...       2.0       2.0       2.0   \n",
      "4           3.0       2.0      34.0  ...       2.0       2.0       3.0   \n",
      "...         ...       ...       ...  ...       ...       ...       ...   \n",
      "11928       2.0       1.0     111.0  ...       1.0       3.0       3.0   \n",
      "11929       4.0       2.0       NaN  ...       NaN       NaN       NaN   \n",
      "11930       2.0       1.0       NaN  ...       NaN       NaN       NaN   \n",
      "11931       2.0       1.0       NaN  ...       NaN       NaN       NaN   \n",
      "11932       3.0       1.0       NaN  ...       NaN       NaN       NaN   \n",
      "\n",
      "       DMDHRMAZ  DMDHSEDZ      WTINT2YR      WTMEC2YR  SDMVSTRA  SDMVPSU  \\\n",
      "0           NaN       NaN  50055.450807  54374.463898     173.0      2.0   \n",
      "1           NaN       NaN  29087.450605  34084.721548     173.0      2.0   \n",
      "2           NaN       NaN  80062.674301  81196.277992     174.0      1.0   \n",
      "3           3.0       NaN  38807.268902  55698.607106     182.0      2.0   \n",
      "4           1.0       2.0  30607.519774  36434.146346     182.0      2.0   \n",
      "...         ...       ...           ...           ...       ...      ...   \n",
      "11928       3.0       NaN  11147.192563  13459.129019     176.0      1.0   \n",
      "11929       NaN       NaN  69419.620456  64962.328962     181.0      1.0   \n",
      "11930       NaN       NaN  32696.313477  44367.534132     183.0      2.0   \n",
      "11931       NaN       NaN  30547.974564  46249.361849     176.0      1.0   \n",
      "11932       NaN       NaN  32753.585494  49647.225467     187.0      2.0   \n",
      "\n",
      "       INDFMPIR  \n",
      "0          5.00  \n",
      "1          5.00  \n",
      "2          1.41  \n",
      "3          1.53  \n",
      "4          3.60  \n",
      "...         ...  \n",
      "11928      2.01  \n",
      "11929       NaN  \n",
      "11930      1.95  \n",
      "11931      3.11  \n",
      "11932      5.00  \n",
      "\n",
      "[11933 rows x 27 columns]\n"
     ]
    }
   ],
   "source": [
    "## Shows values for demographic data\n",
    "print(demographic)"
   ]
  },
  {
   "cell_type": "code",
   "execution_count": 256,
   "id": "ea421c13-e263-41e9-b54a-8d41aa6acdac",
   "metadata": {
    "scrolled": true
   },
   "outputs": [
    {
     "name": "stdout",
     "output_type": "stream",
     "text": [
      "           SEQN  DIQ010  DID040  DIQ160  DIQ180  DIQ050  DID060  DIQ060U  \\\n",
      "0      130378.0     2.0     NaN     2.0     2.0     NaN     NaN      NaN   \n",
      "1      130379.0     2.0     NaN     2.0     1.0     NaN     NaN      NaN   \n",
      "2      130380.0     1.0    35.0     NaN     NaN     2.0     NaN      NaN   \n",
      "3      130381.0     2.0     NaN     NaN     NaN     NaN     NaN      NaN   \n",
      "4      130382.0     2.0     NaN     NaN     NaN     NaN     NaN      NaN   \n",
      "...         ...     ...     ...     ...     ...     ...     ...      ...   \n",
      "11739  142306.0     2.0     NaN     NaN     NaN     NaN     NaN      NaN   \n",
      "11740  142307.0     1.0    42.0     NaN     NaN     2.0     NaN      NaN   \n",
      "11741  142308.0     2.0     NaN     2.0     2.0     NaN     NaN      NaN   \n",
      "11742  142309.0     2.0     NaN     2.0     2.0     NaN     NaN      NaN   \n",
      "11743  142310.0     2.0     NaN     2.0     1.0     NaN     NaN      NaN   \n",
      "\n",
      "       DIQ070  \n",
      "0         NaN  \n",
      "1         NaN  \n",
      "2         1.0  \n",
      "3         NaN  \n",
      "4         NaN  \n",
      "...       ...  \n",
      "11739     NaN  \n",
      "11740     1.0  \n",
      "11741     NaN  \n",
      "11742     NaN  \n",
      "11743     NaN  \n",
      "\n",
      "[11744 rows x 9 columns]\n"
     ]
    }
   ],
   "source": [
    "## Shows values for questionnaire data\n",
    "print(questionnaire)"
   ]
  },
  {
   "cell_type": "code",
   "execution_count": 258,
   "id": "590c4ab2-e6fc-4dcf-bac6-a5d60c9ec0ac",
   "metadata": {},
   "outputs": [],
   "source": [
    "## Merges the two data sets on the shared variable of SEQN\n",
    "diabetes = pd.merge(demographic, questionnaire, on = 'SEQN', how = 'inner')"
   ]
  },
  {
   "cell_type": "code",
   "execution_count": 260,
   "id": "4b5a6dd8-e9ac-4d54-ba8b-12501ec31965",
   "metadata": {},
   "outputs": [
    {
     "name": "stdout",
     "output_type": "stream",
     "text": [
      "           SEQN  SDDSRVYR  RIDSTATR  RIAGENDR  RIDAGEYR  RIDAGEMN  RIDRETH1  \\\n",
      "0      130378.0      12.0       2.0       1.0      43.0       NaN       5.0   \n",
      "1      130379.0      12.0       2.0       1.0      66.0       NaN       3.0   \n",
      "2      130380.0      12.0       2.0       2.0      44.0       NaN       2.0   \n",
      "3      130381.0      12.0       2.0       2.0       5.0       NaN       5.0   \n",
      "4      130382.0      12.0       2.0       1.0       2.0       NaN       3.0   \n",
      "...         ...       ...       ...       ...       ...       ...       ...   \n",
      "11739  142306.0      12.0       2.0       1.0       9.0       NaN       2.0   \n",
      "11740  142307.0      12.0       2.0       2.0      49.0       NaN       4.0   \n",
      "11741  142308.0      12.0       2.0       1.0      50.0       NaN       2.0   \n",
      "11742  142309.0      12.0       2.0       1.0      40.0       NaN       2.0   \n",
      "11743  142310.0      12.0       2.0       2.0      80.0       NaN       3.0   \n",
      "\n",
      "       RIDRETH3  RIDEXMON  RIDEXAGM  ...  SDMVPSU  INDFMPIR  DIQ010  DID040  \\\n",
      "0           6.0       2.0       NaN  ...      2.0      5.00     2.0     NaN   \n",
      "1           3.0       2.0       NaN  ...      2.0      5.00     2.0     NaN   \n",
      "2           2.0       1.0       NaN  ...      1.0      1.41     1.0    35.0   \n",
      "3           7.0       1.0      71.0  ...      2.0      1.53     2.0     NaN   \n",
      "4           3.0       2.0      34.0  ...      2.0      3.60     2.0     NaN   \n",
      "...         ...       ...       ...  ...      ...       ...     ...     ...   \n",
      "11739       2.0       1.0     111.0  ...      1.0      2.01     2.0     NaN   \n",
      "11740       4.0       2.0       NaN  ...      1.0       NaN     1.0    42.0   \n",
      "11741       2.0       1.0       NaN  ...      2.0      1.95     2.0     NaN   \n",
      "11742       2.0       1.0       NaN  ...      1.0      3.11     2.0     NaN   \n",
      "11743       3.0       1.0       NaN  ...      2.0      5.00     2.0     NaN   \n",
      "\n",
      "       DIQ160  DIQ180  DIQ050  DID060  DIQ060U  DIQ070  \n",
      "0         2.0     2.0     NaN     NaN      NaN     NaN  \n",
      "1         2.0     1.0     NaN     NaN      NaN     NaN  \n",
      "2         NaN     NaN     2.0     NaN      NaN     1.0  \n",
      "3         NaN     NaN     NaN     NaN      NaN     NaN  \n",
      "4         NaN     NaN     NaN     NaN      NaN     NaN  \n",
      "...       ...     ...     ...     ...      ...     ...  \n",
      "11739     NaN     NaN     NaN     NaN      NaN     NaN  \n",
      "11740     NaN     NaN     2.0     NaN      NaN     1.0  \n",
      "11741     2.0     2.0     NaN     NaN      NaN     NaN  \n",
      "11742     2.0     2.0     NaN     NaN      NaN     NaN  \n",
      "11743     2.0     1.0     NaN     NaN      NaN     NaN  \n",
      "\n",
      "[11744 rows x 35 columns]\n"
     ]
    }
   ],
   "source": [
    "## Shows the values of the merged data set\n",
    "print(diabetes)"
   ]
  },
  {
   "cell_type": "code",
   "execution_count": 262,
   "id": "23e35842-1044-4c55-8e74-4183889998f1",
   "metadata": {},
   "outputs": [
    {
     "data": {
      "text/plain": [
       "SEQN            0\n",
       "SDDSRVYR        0\n",
       "RIDSTATR        0\n",
       "RIAGENDR        0\n",
       "RIDAGEYR        0\n",
       "RIDAGEMN    11556\n",
       "RIDRETH1        0\n",
       "RIDRETH3        0\n",
       "RIDEXMON     3017\n",
       "RIDEXAGM     9090\n",
       "DMQMILIZ     3443\n",
       "DMDBORN4       19\n",
       "DMDYRUSR     9869\n",
       "DMDEDUC2     3950\n",
       "DMDMARTZ     3952\n",
       "RIDEXPRG    10241\n",
       "DMDHHSIZ        0\n",
       "DMDHRGND     7818\n",
       "DMDHRAGZ     7809\n",
       "DMDHREDZ     8172\n",
       "DMDHRMAZ     7911\n",
       "DMDHSEDZ     9722\n",
       "WTINT2YR        0\n",
       "WTMEC2YR        0\n",
       "SDMVSTRA        0\n",
       "SDMVPSU         0\n",
       "INDFMPIR     2014\n",
       "DIQ010          4\n",
       "DID040      10663\n",
       "DIQ160       3722\n",
       "DIQ180       3440\n",
       "DIQ050      10663\n",
       "DID060      11401\n",
       "DIQ060U     11412\n",
       "DIQ070       9463\n",
       "dtype: int64"
      ]
     },
     "execution_count": 262,
     "metadata": {},
     "output_type": "execute_result"
    }
   ],
   "source": [
    "## Shows the Null Values for each variable\n",
    "diabetes.isna().sum() "
   ]
  },
  {
   "cell_type": "code",
   "execution_count": 264,
   "id": "9526b644-af08-46a7-84b9-327f5c0e3606",
   "metadata": {},
   "outputs": [
    {
     "name": "stdout",
     "output_type": "stream",
     "text": [
      "SEQN         0.000000\n",
      "SDDSRVYR     0.000000\n",
      "RIDSTATR     0.000000\n",
      "RIAGENDR     0.000000\n",
      "RIDAGEYR     0.000000\n",
      "RIDAGEMN    98.399183\n",
      "RIDRETH1     0.000000\n",
      "RIDRETH3     0.000000\n",
      "RIDEXMON    25.689714\n",
      "RIDEXAGM    77.401226\n",
      "DMQMILIZ    29.317098\n",
      "DMDBORN4     0.161785\n",
      "DMDYRUSR    84.034401\n",
      "DMDEDUC2    33.634196\n",
      "DMDMARTZ    33.651226\n",
      "RIDEXPRG    87.201975\n",
      "DMDHHSIZ     0.000000\n",
      "DMDHRGND    66.570163\n",
      "DMDHRAGZ    66.493529\n",
      "DMDHREDZ    69.584469\n",
      "DMDHRMAZ    67.362057\n",
      "DMDHSEDZ    82.782698\n",
      "WTINT2YR     0.000000\n",
      "WTMEC2YR     0.000000\n",
      "SDMVSTRA     0.000000\n",
      "SDMVPSU      0.000000\n",
      "INDFMPIR    17.149183\n",
      "DIQ010       0.034060\n",
      "DID040      90.795300\n",
      "DIQ160      31.692779\n",
      "DIQ180      29.291553\n",
      "DIQ050      90.795300\n",
      "DID060      97.079360\n",
      "DIQ060U     97.173025\n",
      "DIQ070      80.577316\n",
      "dtype: float64\n"
     ]
    }
   ],
   "source": [
    "## Shows the percent of missing values for each varaible\n",
    "percent_missing = diabetes.isnull().sum() * 100 / len(diabetes) \n",
    "print(percent_missing)"
   ]
  },
  {
   "cell_type": "code",
   "execution_count": 286,
   "id": "fbdbfba6-fc4c-4ba6-99bb-d09d5e1a82b9",
   "metadata": {},
   "outputs": [],
   "source": [
    "## Sets a threshold of a maximum of 30% of missing values for each varaible.\n",
    "## if a variable has higher than 30% of missing values, the variable is removed from the data set.\n",
    "threshold = len(diabetes) * 0.7 "
   ]
  },
  {
   "cell_type": "code",
   "execution_count": 232,
   "id": "5f2d6a09-ce1a-489e-884a-1245329fb7cb",
   "metadata": {},
   "outputs": [
    {
     "name": "stdout",
     "output_type": "stream",
     "text": [
      "           SEQN  SDDSRVYR  RIDSTATR  RIAGENDR  RIDAGEYR  RIDRETH1  RIDRETH3  \\\n",
      "0      130378.0      12.0       2.0       1.0      43.0       5.0       6.0   \n",
      "1      130379.0      12.0       2.0       1.0      66.0       3.0       3.0   \n",
      "2      130380.0      12.0       2.0       2.0      44.0       2.0       2.0   \n",
      "3      130381.0      12.0       2.0       2.0       5.0       5.0       7.0   \n",
      "4      130382.0      12.0       2.0       1.0       2.0       3.0       3.0   \n",
      "...         ...       ...       ...       ...       ...       ...       ...   \n",
      "11739  142306.0      12.0       2.0       1.0       9.0       2.0       2.0   \n",
      "11740  142307.0      12.0       2.0       2.0      49.0       4.0       4.0   \n",
      "11741  142308.0      12.0       2.0       1.0      50.0       2.0       2.0   \n",
      "11742  142309.0      12.0       2.0       1.0      40.0       2.0       2.0   \n",
      "11743  142310.0      12.0       2.0       2.0      80.0       3.0       3.0   \n",
      "\n",
      "       RIDEXMON  DMQMILIZ  DMDBORN4  DMDHHSIZ      WTINT2YR      WTMEC2YR  \\\n",
      "0           2.0       2.0       2.0       4.0  50055.450807  54374.463898   \n",
      "1           2.0       2.0       1.0       2.0  29087.450605  34084.721548   \n",
      "2           1.0       2.0       2.0       7.0  80062.674301  81196.277992   \n",
      "3           1.0       NaN       1.0       2.0  38807.268902  55698.607106   \n",
      "4           2.0       NaN       1.0       4.0  30607.519774  36434.146346   \n",
      "...         ...       ...       ...       ...           ...           ...   \n",
      "11739       1.0       NaN       1.0       2.0  11147.192563  13459.129019   \n",
      "11740       2.0       2.0       1.0       5.0  69419.620456  64962.328962   \n",
      "11741       1.0       2.0       2.0       3.0  32696.313477  44367.534132   \n",
      "11742       1.0       1.0       1.0       5.0  30547.974564  46249.361849   \n",
      "11743       1.0       2.0       1.0       2.0  32753.585494  49647.225467   \n",
      "\n",
      "       SDMVSTRA  SDMVPSU  INDFMPIR  DIQ010  DIQ180  \n",
      "0         173.0      2.0      5.00     2.0     2.0  \n",
      "1         173.0      2.0      5.00     2.0     1.0  \n",
      "2         174.0      1.0      1.41     1.0     NaN  \n",
      "3         182.0      2.0      1.53     2.0     NaN  \n",
      "4         182.0      2.0      3.60     2.0     NaN  \n",
      "...         ...      ...       ...     ...     ...  \n",
      "11739     176.0      1.0      2.01     2.0     NaN  \n",
      "11740     181.0      1.0       NaN     1.0     NaN  \n",
      "11741     183.0      2.0      1.95     2.0     2.0  \n",
      "11742     176.0      1.0      3.11     2.0     2.0  \n",
      "11743     187.0      2.0      5.00     2.0     1.0  \n",
      "\n",
      "[11744 rows x 18 columns]\n"
     ]
    }
   ],
   "source": [
    "## Removes the varaibles according to the threshold.\n",
    "diabetes.dropna(thresh=threshold, axis=1, inplace=True) \n",
    "\n",
    "print(diabetes)"
   ]
  },
  {
   "cell_type": "code",
   "execution_count": 234,
   "id": "996f8c47-10fc-4821-bd3a-34ead07069f0",
   "metadata": {},
   "outputs": [
    {
     "name": "stdout",
     "output_type": "stream",
     "text": [
      "SEQN         0.000000\n",
      "SDDSRVYR     0.000000\n",
      "RIDSTATR     0.000000\n",
      "RIAGENDR     0.000000\n",
      "RIDAGEYR     0.000000\n",
      "RIDRETH1     0.000000\n",
      "RIDRETH3     0.000000\n",
      "RIDEXMON    25.689714\n",
      "DMQMILIZ    29.317098\n",
      "DMDBORN4     0.161785\n",
      "DMDHHSIZ     0.000000\n",
      "WTINT2YR     0.000000\n",
      "WTMEC2YR     0.000000\n",
      "SDMVSTRA     0.000000\n",
      "SDMVPSU      0.000000\n",
      "INDFMPIR    17.149183\n",
      "DIQ010       0.034060\n",
      "DIQ180      29.291553\n",
      "dtype: float64\n"
     ]
    }
   ],
   "source": [
    "## Shows the updated data set's missing value in percent by variable\n",
    "percent_missing = diabetes.isnull().sum() * 100 / len(diabetes) \n",
    "print(percent_missing)"
   ]
  },
  {
   "cell_type": "code",
   "execution_count": 300,
   "id": "80c9e920-dae6-4d8e-9f68-7c1fa78995e0",
   "metadata": {},
   "outputs": [
    {
     "name": "stdout",
     "output_type": "stream",
     "text": [
      "           SEQN  SDDSRVYR  RIDSTATR  RIAGENDR  RIDAGEYR  RIDRETH1  RIDRETH3  \\\n",
      "0      130378.0      12.0       2.0       1.0      43.0       5.0       6.0   \n",
      "1      130379.0      12.0       2.0       1.0      66.0       3.0       3.0   \n",
      "2      130380.0      12.0       2.0       2.0      44.0       2.0       2.0   \n",
      "3      130381.0      12.0       2.0       2.0       5.0       5.0       7.0   \n",
      "4      130382.0      12.0       2.0       1.0       2.0       3.0       3.0   \n",
      "...         ...       ...       ...       ...       ...       ...       ...   \n",
      "11739  142306.0      12.0       2.0       1.0       9.0       2.0       2.0   \n",
      "11740  142307.0      12.0       2.0       2.0      49.0       4.0       4.0   \n",
      "11741  142308.0      12.0       2.0       1.0      50.0       2.0       2.0   \n",
      "11742  142309.0      12.0       2.0       1.0      40.0       2.0       2.0   \n",
      "11743  142310.0      12.0       2.0       2.0      80.0       3.0       3.0   \n",
      "\n",
      "       RIDEXMON  DMQMILIZ  DMDBORN4  DMDHHSIZ      WTINT2YR      WTMEC2YR  \\\n",
      "0           2.0       2.0       2.0       4.0  50055.450807  54374.463898   \n",
      "1           2.0       2.0       1.0       2.0  29087.450605  34084.721548   \n",
      "2           1.0       2.0       2.0       7.0  80062.674301  81196.277992   \n",
      "3           1.0       2.0       1.0       2.0  38807.268902  55698.607106   \n",
      "4           2.0       2.0       1.0       4.0  30607.519774  36434.146346   \n",
      "...         ...       ...       ...       ...           ...           ...   \n",
      "11739       1.0       2.0       1.0       2.0  11147.192563  13459.129019   \n",
      "11740       2.0       2.0       1.0       5.0  69419.620456  64962.328962   \n",
      "11741       1.0       2.0       2.0       3.0  32696.313477  44367.534132   \n",
      "11742       1.0       1.0       1.0       5.0  30547.974564  46249.361849   \n",
      "11743       1.0       2.0       1.0       2.0  32753.585494  49647.225467   \n",
      "\n",
      "       SDMVSTRA  INDFMPIR  SDMVPSU  DIQ010  DIQ180  \n",
      "0         173.0      5.00      2.0     2.0     2.0  \n",
      "1         173.0      5.00      2.0     2.0     1.0  \n",
      "2         174.0      1.41      1.0     1.0     2.0  \n",
      "3         182.0      1.53      2.0     2.0     2.0  \n",
      "4         182.0      3.60      2.0     2.0     2.0  \n",
      "...         ...       ...      ...     ...     ...  \n",
      "11739     176.0      2.01      1.0     2.0     2.0  \n",
      "11740     181.0      5.00      1.0     1.0     2.0  \n",
      "11741     183.0      1.95      2.0     2.0     2.0  \n",
      "11742     176.0      3.11      1.0     2.0     2.0  \n",
      "11743     187.0      5.00      2.0     2.0     1.0  \n",
      "\n",
      "[11744 rows x 18 columns]\n"
     ]
    }
   ],
   "source": [
    "## This function imputes the data meaning it replaces the NA Values\n",
    "##for both categorical and numerical data\n",
    "\n",
    "from sklearn.impute import SimpleImputer\n",
    "\n",
    "col_names = ['SEQN','SDDSRVYR','RIDSTATR','RIAGENDR','RIDAGEYR', 'RIDRETH1', 'RIDRETH3','RIDEXMON', 'DMQMILIZ', 'DMDBORN4', 'DMDHHSIZ', \n",
    "             'WTINT2YR','WTMEC2YR','SDMVSTRA','INDFMPIR', 'SDMVPSU','DIQ010' , 'DIQ180']\n",
    "\n",
    "diabetes_new = pd.DataFrame(diabetes, columns=col_names)\n",
    "\n",
    "imp = SimpleImputer(strategy = 'most_frequent')\n",
    "imp.fit(diabetes_new)\n",
    "diabetes_imp = pd.DataFrame(imp.transform(diabetes_new), columns = col_names) \n",
    "print(diabetes_imp)"
   ]
  }
 ],
 "metadata": {
  "kernelspec": {
   "display_name": "Python [conda env:base] *",
   "language": "python",
   "name": "conda-base-py"
  },
  "language_info": {
   "codemirror_mode": {
    "name": "ipython",
    "version": 3
   },
   "file_extension": ".py",
   "mimetype": "text/x-python",
   "name": "python",
   "nbconvert_exporter": "python",
   "pygments_lexer": "ipython3",
   "version": "3.12.7"
  }
 },
 "nbformat": 4,
 "nbformat_minor": 5
}
